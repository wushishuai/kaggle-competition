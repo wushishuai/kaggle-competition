{
 "cells": [
  {
   "cell_type": "code",
   "execution_count": 39,
   "metadata": {
    "collapsed": true
   },
   "outputs": [],
   "source": [
    "# 如果你没有安装pandas，请取消下一行的注释\n",
    "# !pip install pandas\n",
    "\n",
    "%matplotlib inline\n",
    "import numpy as np\n",
    "import pandas as pd\n",
    "import torch\n",
    "from torch import nn\n",
    "from d2l import torch as d2l"
   ]
  },
  {
   "cell_type": "code",
   "execution_count": 40,
   "outputs": [],
   "source": [
    "train_data = pd.read_csv('train.csv')\n",
    "test_data = pd.read_csv('test.csv')"
   ],
   "metadata": {
    "collapsed": false,
    "pycharm": {
     "name": "#%%\n"
    }
   }
  },
  {
   "cell_type": "code",
   "execution_count": 41,
   "outputs": [
    {
     "name": "stdout",
     "output_type": "stream",
     "text": [
      "(1460, 81)\n",
      "(1459, 80)\n"
     ]
    }
   ],
   "source": [
    "print(train_data.shape)\n",
    "print(test_data.shape)"
   ],
   "metadata": {
    "collapsed": false,
    "pycharm": {
     "name": "#%%\n"
    }
   }
  },
  {
   "cell_type": "code",
   "execution_count": 42,
   "outputs": [
    {
     "name": "stdout",
     "output_type": "stream",
     "text": [
      "   Id  MSSubClass MSZoning  LotFrontage SaleType SaleCondition  SalePrice\n",
      "0   1          60       RL         65.0       WD        Normal     208500\n",
      "1   2          20       RL         80.0       WD        Normal     181500\n",
      "2   3          60       RL         68.0       WD        Normal     223500\n",
      "3   4          70       RL         60.0       WD       Abnorml     140000\n"
     ]
    }
   ],
   "source": [
    "print(train_data.iloc[0:4, [0, 1, 2, 3, -3, -2, -1]])"
   ],
   "metadata": {
    "collapsed": false,
    "pycharm": {
     "name": "#%%\n"
    }
   }
  },
  {
   "cell_type": "code",
   "execution_count": 43,
   "outputs": [],
   "source": [
    "all_features = pd.concat((train_data.iloc[:, 1:-1], test_data.iloc[:, 1:]))"
   ],
   "metadata": {
    "collapsed": false,
    "pycharm": {
     "name": "#%%\n"
    }
   }
  },
  {
   "cell_type": "code",
   "execution_count": 44,
   "outputs": [],
   "source": [
    "# 若无法获得测试数据，则可根据训练数据计算均值和标准差\n",
    "numeric_features = all_features.dtypes[all_features.dtypes != 'object'].index\n",
    "all_features[numeric_features] = all_features[numeric_features].apply(\n",
    "    lambda x: (x - x.mean()) / (x.std()))\n",
    "# 在标准化数据之后，所有均值消失，因此我们可以将缺失值设置为0\n",
    "all_features[numeric_features] = all_features[numeric_features].fillna(0)"
   ],
   "metadata": {
    "collapsed": false,
    "pycharm": {
     "name": "#%%\n"
    }
   }
  },
  {
   "cell_type": "code",
   "execution_count": 45,
   "outputs": [
    {
     "data": {
      "text/plain": "(2919, 331)"
     },
     "execution_count": 45,
     "metadata": {},
     "output_type": "execute_result"
    }
   ],
   "source": [
    "# “Dummy_na=True”将“na”（缺失值）视为有效的特征值，并为其创建指示符特征\n",
    "all_features = pd.get_dummies(all_features, dummy_na=True)\n",
    "all_features.shape"
   ],
   "metadata": {
    "collapsed": false,
    "pycharm": {
     "name": "#%%\n"
    }
   }
  },
  {
   "cell_type": "code",
   "execution_count": 46,
   "outputs": [],
   "source": [
    "n_train = train_data.shape[0]\n",
    "train_features = torch.tensor(all_features[:n_train].values, dtype=torch.float32)\n",
    "test_features = torch.tensor(all_features[n_train:].values, dtype=torch.float32)\n",
    "train_labels = torch.tensor(\n",
    "    train_data.SalePrice.values.reshape(-1, 1), dtype=torch.float32)"
   ],
   "metadata": {
    "collapsed": false,
    "pycharm": {
     "name": "#%%\n"
    }
   }
  },
  {
   "cell_type": "code",
   "execution_count": 47,
   "outputs": [],
   "source": [
    "loss = nn.MSELoss()\n",
    "in_features = train_features.shape[1]\n",
    "\n",
    "def get_net():\n",
    "    net = nn.Sequential(nn.Linear(in_features,1))\n",
    "    return net"
   ],
   "metadata": {
    "collapsed": false,
    "pycharm": {
     "name": "#%%\n"
    }
   }
  },
  {
   "cell_type": "code",
   "execution_count": 48,
   "outputs": [],
   "source": [
    "def log_rmse(net, features, labels):\n",
    "    # 为了在取对数时进一步稳定该值，将小于1的值设置为1\n",
    "    clipped_preds = torch.clamp(net(features), 1, float('inf'))\n",
    "    rmse = torch.sqrt(loss(torch.log(clipped_preds),\n",
    "                           torch.log(labels)))\n",
    "    return rmse.item()"
   ],
   "metadata": {
    "collapsed": false,
    "pycharm": {
     "name": "#%%\n"
    }
   }
  },
  {
   "cell_type": "code",
   "execution_count": 49,
   "outputs": [],
   "source": [
    "def train(net, train_features, train_labels, test_features, test_labels,\n",
    "          num_epochs, learning_rate, weight_decay, batch_size):\n",
    "    train_ls, test_ls = [], []\n",
    "    train_iter = d2l.load_array((train_features, train_labels), batch_size)\n",
    "    # 这里使用的是Adam优化算法\n",
    "    optimizer = torch.optim.Adam(net.parameters(),\n",
    "                                 lr = learning_rate,\n",
    "                                 weight_decay = weight_decay)\n",
    "    for epoch in range(num_epochs):\n",
    "        for X, y in train_iter:\n",
    "            optimizer.zero_grad()\n",
    "            l = loss(net(X), y)\n",
    "            l.backward()\n",
    "            optimizer.step()\n",
    "        train_ls.append(log_rmse(net, train_features, train_labels))\n",
    "        if test_labels is not None:\n",
    "            test_ls.append(log_rmse(net, test_features, test_labels))\n",
    "    return train_ls, test_ls"
   ],
   "metadata": {
    "collapsed": false,
    "pycharm": {
     "name": "#%%\n"
    }
   }
  },
  {
   "cell_type": "code",
   "execution_count": 50,
   "outputs": [],
   "source": [
    "def get_k_fold_data(k, i, X, y):\n",
    "    assert k > 1\n",
    "    fold_size = X.shape[0] // k\n",
    "    X_train, y_train = None, None\n",
    "    for j in range(k):\n",
    "        idx = slice(j * fold_size, (j + 1) * fold_size)\n",
    "        X_part, y_part = X[idx, :], y[idx]\n",
    "        if j == i:\n",
    "            X_valid, y_valid = X_part, y_part\n",
    "        elif X_train is None:\n",
    "            X_train, y_train = X_part, y_part\n",
    "        else:\n",
    "            X_train = torch.cat([X_train, X_part], 0)\n",
    "            y_train = torch.cat([y_train, y_part], 0)\n",
    "    return X_train, y_train, X_valid, y_valid"
   ],
   "metadata": {
    "collapsed": false,
    "pycharm": {
     "name": "#%%\n"
    }
   }
  },
  {
   "cell_type": "code",
   "execution_count": 51,
   "outputs": [],
   "source": [
    "def k_fold(k, X_train, y_train, num_epochs, learning_rate, weight_decay,\n",
    "           batch_size):\n",
    "    train_l_sum, valid_l_sum = 0, 0\n",
    "    for i in range(k):\n",
    "        data = get_k_fold_data(k, i, X_train, y_train)\n",
    "        net = get_net()\n",
    "        train_ls, valid_ls = train(net, *data, num_epochs, learning_rate,\n",
    "                                   weight_decay, batch_size)\n",
    "        train_l_sum += train_ls[-1]\n",
    "        valid_l_sum += valid_ls[-1]\n",
    "        # if i == 0:\n",
    "        #     d2l.plot(list(range(1, num_epochs + 1)), [train_ls, valid_ls],\n",
    "        #              xlabel='epoch', ylabel='rmse', xlim=[1, num_epochs],\n",
    "        #              legend=['train', 'valid'], yscale='log')\n",
    "        print(f'折{i + 1}，训练log rmse{float(train_ls[-1]):f}, '\n",
    "              f'验证log rmse{float(valid_ls[-1]):f}')\n",
    "    return train_l_sum / k, valid_l_sum / k"
   ],
   "metadata": {
    "collapsed": false,
    "pycharm": {
     "name": "#%%\n"
    }
   }
  },
  {
   "cell_type": "code",
   "execution_count": 55,
   "outputs": [
    {
     "name": "stdout",
     "output_type": "stream",
     "text": [
      "折1，训练log rmse0.872150, 验证log rmse0.882296\n",
      "折2，训练log rmse0.871699, 验证log rmse0.884920\n",
      "折3，训练log rmse0.870738, 验证log rmse0.886032\n",
      "折4，训练log rmse0.878079, 验证log rmse0.853132\n",
      "折5，训练log rmse0.873851, 验证log rmse0.878030\n",
      "lr为1时 5-折验证: 平均训练log rmse: 0.873304, 平均验证log rmse: 0.876882\n",
      "折1，训练log rmse0.363005, 验证log rmse0.365927\n",
      "折2，训练log rmse0.360616, 验证log rmse0.377175\n",
      "折3，训练log rmse0.360892, 验证log rmse0.375211\n",
      "折4，训练log rmse0.365672, 验证log rmse0.341602\n",
      "折5，训练log rmse0.361690, 验证log rmse0.369115\n",
      "lr为2时 5-折验证: 平均训练log rmse: 0.362375, 平均验证log rmse: 0.365806\n",
      "折1，训练log rmse0.202690, 验证log rmse0.194576\n",
      "折2，训练log rmse0.199529, 验证log rmse0.217749\n",
      "折3，训练log rmse0.200395, 验证log rmse0.211011\n",
      "折4，训练log rmse0.203174, 验证log rmse0.184023\n",
      "折5，训练log rmse0.197915, 验证log rmse0.212813\n",
      "lr为3时 5-折验证: 平均训练log rmse: 0.200740, 平均验证log rmse: 0.204034\n",
      "折1，训练log rmse0.173017, 验证log rmse0.159565\n",
      "折2，训练log rmse0.167051, 验证log rmse0.185844\n",
      "折3，训练log rmse0.168438, 验证log rmse0.175088\n",
      "折4，训练log rmse0.171389, 验证log rmse0.157162\n",
      "折5，训练log rmse0.165469, 验证log rmse0.185358\n",
      "lr为4时 5-折验证: 平均训练log rmse: 0.169073, 平均验证log rmse: 0.172603\n",
      "折1，训练log rmse0.170373, 验证log rmse0.157168\n",
      "折2，训练log rmse0.162230, 验证log rmse0.190882\n",
      "折3，训练log rmse0.163846, 验证log rmse0.168372\n",
      "折4，训练log rmse0.168880, 验证log rmse0.155413\n",
      "折5，训练log rmse0.163089, 验证log rmse0.182849\n",
      "lr为5时 5-折验证: 平均训练log rmse: 0.165683, 平均验证log rmse: 0.170937\n",
      "折1，训练log rmse0.168530, 验证log rmse0.157087\n",
      "折2，训练log rmse0.159823, 验证log rmse0.194762\n",
      "折3，训练log rmse0.161172, 验证log rmse0.164234\n",
      "折4，训练log rmse0.166072, 验证log rmse0.154164\n",
      "折5，训练log rmse0.162755, 验证log rmse0.182201\n",
      "lr为6时 5-折验证: 平均训练log rmse: 0.163670, 平均验证log rmse: 0.170490\n",
      "折1，训练log rmse0.163522, 验证log rmse0.155098\n",
      "折2，训练log rmse0.156126, 验证log rmse0.190427\n",
      "折3，训练log rmse0.156507, 验证log rmse0.159874\n",
      "折4，训练log rmse0.161857, 验证log rmse0.153506\n",
      "折5，训练log rmse0.158971, 验证log rmse0.180649\n",
      "lr为7时 5-折验证: 平均训练log rmse: 0.159396, 平均验证log rmse: 0.167911\n",
      "折1，训练log rmse0.157434, 验证log rmse0.152652\n",
      "折2，训练log rmse0.152340, 验证log rmse0.177374\n",
      "折3，训练log rmse0.151234, 验证log rmse0.155706\n",
      "折4，训练log rmse0.155680, 验证log rmse0.150335\n",
      "折5，训练log rmse0.152057, 验证log rmse0.177619\n",
      "lr为8时 5-折验证: 平均训练log rmse: 0.153749, 平均验证log rmse: 0.162737\n",
      "折1，训练log rmse0.152486, 验证log rmse0.149941\n",
      "折2，训练log rmse0.148352, 验证log rmse0.167995\n",
      "折3，训练log rmse0.146759, 验证log rmse0.151798\n",
      "折4，训练log rmse0.151000, 验证log rmse0.147796\n",
      "折5，训练log rmse0.146524, 验证log rmse0.175586\n",
      "lr为9时 5-折验证: 平均训练log rmse: 0.149024, 平均验证log rmse: 0.158623\n",
      "折1，训练log rmse0.148878, 验证log rmse0.148319\n",
      "折2，训练log rmse0.145437, 验证log rmse0.162572\n",
      "折3，训练log rmse0.143016, 验证log rmse0.148360\n",
      "折4，训练log rmse0.148613, 验证log rmse0.147029\n",
      "折5，训练log rmse0.142455, 验证log rmse0.174061\n",
      "lr为10时 5-折验证: 平均训练log rmse: 0.145680, 平均验证log rmse: 0.156068\n",
      "折1，训练log rmse0.145276, 验证log rmse0.145695\n",
      "折2，训练log rmse0.142541, 验证log rmse0.158708\n",
      "折3，训练log rmse0.140172, 验证log rmse0.145781\n",
      "折4，训练log rmse0.145497, 验证log rmse0.145832\n",
      "折5，训练log rmse0.138779, 验证log rmse0.172678\n",
      "lr为11时 5-折验证: 平均训练log rmse: 0.142453, 平均验证log rmse: 0.153739\n",
      "折1，训练log rmse0.142664, 验证log rmse0.144741\n",
      "折2，训练log rmse0.139937, 验证log rmse0.154548\n",
      "折3，训练log rmse0.138001, 验证log rmse0.144505\n",
      "折4，训练log rmse0.143552, 验证log rmse0.144713\n",
      "折5，训练log rmse0.137146, 验证log rmse0.171849\n",
      "lr为12时 5-折验证: 平均训练log rmse: 0.140260, 平均验证log rmse: 0.152071\n",
      "折1，训练log rmse0.140545, 验证log rmse0.143831\n",
      "折2，训练log rmse0.139103, 验证log rmse0.153823\n",
      "折3，训练log rmse0.136702, 验证log rmse0.143264\n",
      "折4，训练log rmse0.141235, 验证log rmse0.143074\n",
      "折5，训练log rmse0.134524, 验证log rmse0.171380\n",
      "lr为13时 5-折验证: 平均训练log rmse: 0.138422, 平均验证log rmse: 0.151074\n",
      "折1，训练log rmse0.139762, 验证log rmse0.144798\n",
      "折2，训练log rmse0.136776, 验证log rmse0.152154\n",
      "折3，训练log rmse0.134698, 验证log rmse0.142528\n",
      "折4，训练log rmse0.138940, 验证log rmse0.140611\n",
      "折5，训练log rmse0.133470, 验证log rmse0.171016\n",
      "lr为14时 5-折验证: 平均训练log rmse: 0.136729, 平均验证log rmse: 0.150221\n",
      "折1，训练log rmse0.137554, 验证log rmse0.144288\n",
      "折2，训练log rmse0.135768, 验证log rmse0.150126\n",
      "折3，训练log rmse0.133457, 验证log rmse0.142213\n",
      "折4，训练log rmse0.138454, 验证log rmse0.140754\n",
      "折5，训练log rmse0.131399, 验证log rmse0.170037\n",
      "lr为15时 5-折验证: 平均训练log rmse: 0.135326, 平均验证log rmse: 0.149484\n",
      "折1，训练log rmse0.136930, 验证log rmse0.145186\n",
      "折2，训练log rmse0.134425, 验证log rmse0.149459\n",
      "折3，训练log rmse0.132359, 验证log rmse0.141321\n",
      "折4，训练log rmse0.137284, 验证log rmse0.139958\n",
      "折5，训练log rmse0.130423, 验证log rmse0.170141\n",
      "lr为16时 5-折验证: 平均训练log rmse: 0.134284, 平均验证log rmse: 0.149213\n",
      "折1，训练log rmse0.135260, 验证log rmse0.143761\n",
      "折2，训练log rmse0.132396, 验证log rmse0.147929\n",
      "折3，训练log rmse0.130795, 验证log rmse0.141613\n",
      "折4，训练log rmse0.136119, 验证log rmse0.140160\n",
      "折5，训练log rmse0.128858, 验证log rmse0.169399\n",
      "lr为17时 5-折验证: 平均训练log rmse: 0.132685, 平均验证log rmse: 0.148572\n",
      "折1，训练log rmse0.134772, 验证log rmse0.144690\n",
      "折2，训练log rmse0.131533, 验证log rmse0.147338\n",
      "折3，训练log rmse0.129938, 验证log rmse0.141439\n",
      "折4，训练log rmse0.134999, 验证log rmse0.138156\n",
      "折5，训练log rmse0.127191, 验证log rmse0.169112\n",
      "lr为18时 5-折验证: 平均训练log rmse: 0.131687, 平均验证log rmse: 0.148147\n",
      "折1，训练log rmse0.133099, 验证log rmse0.142996\n",
      "折2，训练log rmse0.130684, 验证log rmse0.146172\n",
      "折3，训练log rmse0.129033, 验证log rmse0.141679\n",
      "折4，训练log rmse0.134250, 验证log rmse0.138650\n",
      "折5，训练log rmse0.126644, 验证log rmse0.168340\n",
      "lr为19时 5-折验证: 平均训练log rmse: 0.130742, 平均验证log rmse: 0.147567\n",
      "折1，训练log rmse0.132617, 验证log rmse0.144926\n",
      "折2，训练log rmse0.129935, 验证log rmse0.146728\n",
      "折3，训练log rmse0.128551, 验证log rmse0.141932\n",
      "折4，训练log rmse0.133315, 验证log rmse0.138538\n",
      "折5，训练log rmse0.126325, 验证log rmse0.168479\n",
      "lr为20时 5-折验证: 平均训练log rmse: 0.130149, 平均验证log rmse: 0.148121\n",
      "折1，训练log rmse0.130981, 验证log rmse0.142636\n",
      "折2，训练log rmse0.128726, 验证log rmse0.146437\n",
      "折3，训练log rmse0.127790, 验证log rmse0.142259\n",
      "折4，训练log rmse0.132391, 验证log rmse0.137556\n",
      "折5，训练log rmse0.125306, 验证log rmse0.168489\n",
      "lr为21时 5-折验证: 平均训练log rmse: 0.129039, 平均验证log rmse: 0.147476\n",
      "折1，训练log rmse0.130632, 验证log rmse0.145013\n",
      "折2，训练log rmse0.128404, 验证log rmse0.146669\n",
      "折3，训练log rmse0.126922, 验证log rmse0.142139\n",
      "折4，训练log rmse0.132182, 验证log rmse0.138717\n",
      "折5，训练log rmse0.124603, 验证log rmse0.167827\n",
      "lr为22时 5-折验证: 平均训练log rmse: 0.128548, 平均验证log rmse: 0.148073\n",
      "折1，训练log rmse0.130008, 验证log rmse0.145842\n",
      "折2，训练log rmse0.127749, 验证log rmse0.145901\n",
      "折3，训练log rmse0.126757, 验证log rmse0.142938\n",
      "折4，训练log rmse0.131072, 验证log rmse0.137782\n",
      "折5，训练log rmse0.124066, 验证log rmse0.167475\n",
      "lr为23时 5-折验证: 平均训练log rmse: 0.127930, 平均验证log rmse: 0.147988\n",
      "折1，训练log rmse0.129657, 验证log rmse0.145741\n",
      "折2，训练log rmse0.126872, 验证log rmse0.146378\n",
      "折3，训练log rmse0.126137, 验证log rmse0.143987\n",
      "折4，训练log rmse0.131339, 验证log rmse0.139078\n",
      "折5，训练log rmse0.122901, 验证log rmse0.167259\n",
      "lr为24时 5-折验证: 平均训练log rmse: 0.127381, 平均验证log rmse: 0.148489\n",
      "折1，训练log rmse0.129643, 验证log rmse0.147003\n",
      "折2，训练log rmse0.126553, 验证log rmse0.146924\n",
      "折3，训练log rmse0.125459, 验证log rmse0.143564\n",
      "折4，训练log rmse0.130635, 验证log rmse0.138852\n",
      "折5，训练log rmse0.123276, 验证log rmse0.166982\n",
      "lr为25时 5-折验证: 平均训练log rmse: 0.127113, 平均验证log rmse: 0.148665\n",
      "折1，训练log rmse0.128733, 验证log rmse0.145478\n",
      "折2，训练log rmse0.125156, 验证log rmse0.146810\n",
      "折3，训练log rmse0.125219, 验证log rmse0.144612\n",
      "折4，训练log rmse0.130213, 验证log rmse0.138896\n",
      "折5，训练log rmse0.122235, 验证log rmse0.166936\n",
      "lr为26时 5-折验证: 平均训练log rmse: 0.126311, 平均验证log rmse: 0.148546\n",
      "折1，训练log rmse0.128394, 验证log rmse0.146387\n",
      "折2，训练log rmse0.126107, 验证log rmse0.147741\n",
      "折3，训练log rmse0.125032, 验证log rmse0.145227\n",
      "折4，训练log rmse0.129642, 验证log rmse0.137402\n",
      "折5，训练log rmse0.122223, 验证log rmse0.166529\n",
      "lr为27时 5-折验证: 平均训练log rmse: 0.126280, 平均验证log rmse: 0.148657\n",
      "折1，训练log rmse0.128548, 验证log rmse0.148623\n",
      "折2，训练log rmse0.124209, 验证log rmse0.147199\n",
      "折3，训练log rmse0.124422, 验证log rmse0.145519\n",
      "折4，训练log rmse0.129781, 验证log rmse0.139842\n",
      "折5，训练log rmse0.121011, 验证log rmse0.165934\n",
      "lr为28时 5-折验证: 平均训练log rmse: 0.125594, 平均验证log rmse: 0.149423\n",
      "折1，训练log rmse0.128673, 验证log rmse0.149445\n",
      "折2，训练log rmse0.125249, 验证log rmse0.148163\n",
      "折3，训练log rmse0.125134, 验证log rmse0.147015\n",
      "折4，训练log rmse0.128910, 验证log rmse0.138317\n",
      "折5，训练log rmse0.121012, 验证log rmse0.166480\n",
      "lr为29时 5-折验证: 平均训练log rmse: 0.125796, 平均验证log rmse: 0.149884\n",
      "折1，训练log rmse0.128293, 验证log rmse0.149248\n",
      "折2，训练log rmse0.123957, 验证log rmse0.148320\n",
      "折3，训练log rmse0.124347, 验证log rmse0.147432\n",
      "折4，训练log rmse0.128926, 验证log rmse0.139324\n",
      "折5，训练log rmse0.120754, 验证log rmse0.166430\n",
      "lr为30时 5-折验证: 平均训练log rmse: 0.125256, 平均验证log rmse: 0.150151\n",
      "折1，训练log rmse0.128228, 验证log rmse0.149678\n",
      "折2，训练log rmse0.123501, 验证log rmse0.148201\n",
      "折3，训练log rmse0.123403, 验证log rmse0.146805\n",
      "折4，训练log rmse0.128494, 验证log rmse0.139461\n",
      "折5，训练log rmse0.119799, 验证log rmse0.165151\n",
      "lr为31时 5-折验证: 平均训练log rmse: 0.124685, 平均验证log rmse: 0.149859\n",
      "折1，训练log rmse0.127306, 验证log rmse0.148961\n",
      "折2，训练log rmse0.122907, 验证log rmse0.149164\n",
      "折3，训练log rmse0.123704, 验证log rmse0.147783\n",
      "折4，训练log rmse0.128225, 验证log rmse0.140676\n",
      "折5，训练log rmse0.120103, 验证log rmse0.165164\n",
      "lr为32时 5-折验证: 平均训练log rmse: 0.124449, 平均验证log rmse: 0.150350\n",
      "折1，训练log rmse0.128427, 验证log rmse0.154568\n",
      "折2，训练log rmse0.122849, 验证log rmse0.149724\n",
      "折3，训练log rmse0.122849, 验证log rmse0.147546\n",
      "折4，训练log rmse0.127974, 验证log rmse0.139580\n",
      "折5，训练log rmse0.119759, 验证log rmse0.165934\n",
      "lr为33时 5-折验证: 平均训练log rmse: 0.124371, 平均验证log rmse: 0.151470\n",
      "折1，训练log rmse0.127665, 验证log rmse0.150827\n",
      "折2，训练log rmse0.122047, 验证log rmse0.149812\n",
      "折3，训练log rmse0.123168, 验证log rmse0.148980\n",
      "折4，训练log rmse0.127859, 验证log rmse0.140373\n",
      "折5，训练log rmse0.118273, 验证log rmse0.164146\n",
      "lr为34时 5-折验证: 平均训练log rmse: 0.123802, 平均验证log rmse: 0.150828\n",
      "折1，训练log rmse0.127142, 验证log rmse0.150375\n",
      "折2，训练log rmse0.122455, 验证log rmse0.150636\n",
      "折3，训练log rmse0.122835, 验证log rmse0.148911\n",
      "折4，训练log rmse0.127176, 验证log rmse0.140630\n",
      "折5，训练log rmse0.119250, 验证log rmse0.165256\n",
      "lr为35时 5-折验证: 平均训练log rmse: 0.123772, 平均验证log rmse: 0.151161\n",
      "折1，训练log rmse0.127097, 验证log rmse0.152828\n",
      "折2，训练log rmse0.122709, 验证log rmse0.151588\n",
      "折3，训练log rmse0.122829, 验证log rmse0.149864\n",
      "折4，训练log rmse0.127500, 验证log rmse0.140582\n",
      "折5，训练log rmse0.118092, 验证log rmse0.164606\n",
      "lr为36时 5-折验证: 平均训练log rmse: 0.123646, 平均验证log rmse: 0.151893\n",
      "折1，训练log rmse0.127811, 验证log rmse0.153201\n",
      "折2，训练log rmse0.121786, 验证log rmse0.152659\n",
      "折3，训练log rmse0.122816, 验证log rmse0.150231\n",
      "折4，训练log rmse0.127169, 验证log rmse0.141458\n",
      "折5，训练log rmse0.118219, 验证log rmse0.164597\n",
      "lr为37时 5-折验证: 平均训练log rmse: 0.123560, 平均验证log rmse: 0.152429\n",
      "折1，训练log rmse0.127639, 验证log rmse0.155425\n",
      "折2，训练log rmse0.121052, 验证log rmse0.152641\n",
      "折3，训练log rmse0.122741, 验证log rmse0.150878\n",
      "折4，训练log rmse0.127310, 验证log rmse0.142306\n",
      "折5，训练log rmse0.118043, 验证log rmse0.164590\n",
      "lr为38时 5-折验证: 平均训练log rmse: 0.123357, 平均验证log rmse: 0.153168\n",
      "折1，训练log rmse0.128069, 验证log rmse0.156691\n",
      "折2，训练log rmse0.121333, 验证log rmse0.153292\n",
      "折3，训练log rmse0.121891, 验证log rmse0.150655\n",
      "折4，训练log rmse0.126552, 验证log rmse0.141372\n",
      "折5，训练log rmse0.119094, 验证log rmse0.165535\n",
      "lr为39时 5-折验证: 平均训练log rmse: 0.123388, 平均验证log rmse: 0.153509\n",
      "折1，训练log rmse0.126674, 验证log rmse0.156888\n",
      "折2，训练log rmse0.121254, 验证log rmse0.154313\n",
      "折3，训练log rmse0.123023, 验证log rmse0.152021\n",
      "折4，训练log rmse0.127267, 验证log rmse0.144893\n",
      "折5，训练log rmse0.117133, 验证log rmse0.164012\n",
      "lr为40时 5-折验证: 平均训练log rmse: 0.123070, 平均验证log rmse: 0.154425\n",
      "折1，训练log rmse0.126856, 验证log rmse0.156337\n",
      "折2，训练log rmse0.119347, 验证log rmse0.153311\n",
      "折3，训练log rmse0.122348, 验证log rmse0.151790\n",
      "折4，训练log rmse0.127190, 验证log rmse0.144168\n",
      "折5，训练log rmse0.117089, 验证log rmse0.164124\n",
      "lr为41时 5-折验证: 平均训练log rmse: 0.122566, 平均验证log rmse: 0.153946\n",
      "折1，训练log rmse0.126583, 验证log rmse0.155849\n",
      "折2，训练log rmse0.120915, 验证log rmse0.154482\n",
      "折3，训练log rmse0.122573, 验证log rmse0.153070\n",
      "折4，训练log rmse0.127021, 验证log rmse0.145013\n",
      "折5，训练log rmse0.116455, 验证log rmse0.163488\n",
      "lr为42时 5-折验证: 平均训练log rmse: 0.122709, 平均验证log rmse: 0.154381\n",
      "折1，训练log rmse0.126947, 验证log rmse0.158767\n",
      "折2，训练log rmse0.121792, 验证log rmse0.155327\n",
      "折3，训练log rmse0.122632, 验证log rmse0.153756\n",
      "折4，训练log rmse0.127097, 验证log rmse0.146512\n",
      "折5，训练log rmse0.117283, 验证log rmse0.163708\n",
      "lr为43时 5-折验证: 平均训练log rmse: 0.123150, 平均验证log rmse: 0.155614\n",
      "折1，训练log rmse0.126338, 验证log rmse0.157181\n",
      "折2，训练log rmse0.120160, 验证log rmse0.155022\n",
      "折3，训练log rmse0.122345, 验证log rmse0.153533\n",
      "折4，训练log rmse0.127190, 验证log rmse0.145663\n",
      "折5，训练log rmse0.117235, 验证log rmse0.164783\n",
      "lr为44时 5-折验证: 平均训练log rmse: 0.122653, 平均验证log rmse: 0.155237\n",
      "折1，训练log rmse0.126131, 验证log rmse0.158514\n",
      "折2，训练log rmse0.120263, 验证log rmse0.155969\n",
      "折3，训练log rmse0.122427, 验证log rmse0.154241\n",
      "折4，训练log rmse0.126711, 验证log rmse0.146374\n",
      "折5，训练log rmse0.116963, 验证log rmse0.163825\n",
      "lr为45时 5-折验证: 平均训练log rmse: 0.122499, 平均验证log rmse: 0.155784\n",
      "折1，训练log rmse0.126989, 验证log rmse0.162819\n",
      "折2，训练log rmse0.120699, 验证log rmse0.158457\n",
      "折3，训练log rmse0.122633, 验证log rmse0.155139\n",
      "折4，训练log rmse0.125958, 验证log rmse0.145804\n",
      "折5，训练log rmse0.117744, 验证log rmse0.165120\n",
      "lr为46时 5-折验证: 平均训练log rmse: 0.122805, 平均验证log rmse: 0.157468\n",
      "折1，训练log rmse0.126943, 验证log rmse0.163742\n",
      "折2，训练log rmse0.119969, 验证log rmse0.155796\n",
      "折3，训练log rmse0.121793, 验证log rmse0.155164\n",
      "折4，训练log rmse0.126216, 验证log rmse0.145130\n",
      "折5，训练log rmse0.115760, 验证log rmse0.163650\n",
      "lr为47时 5-折验证: 平均训练log rmse: 0.122136, 平均验证log rmse: 0.156696\n",
      "折1，训练log rmse0.125273, 验证log rmse0.156659\n",
      "折2，训练log rmse0.119605, 验证log rmse0.158609\n",
      "折3，训练log rmse0.122262, 验证log rmse0.155399\n",
      "折4，训练log rmse0.126538, 验证log rmse0.147481\n",
      "折5，训练log rmse0.115499, 验证log rmse0.163465\n",
      "lr为48时 5-折验证: 平均训练log rmse: 0.121836, 平均验证log rmse: 0.156322\n",
      "折1，训练log rmse0.126776, 验证log rmse0.167386\n",
      "折2，训练log rmse0.119933, 验证log rmse0.160141\n",
      "折3，训练log rmse0.122028, 验证log rmse0.155610\n",
      "折4，训练log rmse0.126525, 验证log rmse0.147772\n",
      "折5，训练log rmse0.115707, 验证log rmse0.163697\n",
      "lr为49时 5-折验证: 平均训练log rmse: 0.122194, 平均验证log rmse: 0.158921\n"
     ]
    }
   ],
   "source": [
    "# k, num_epochs, lr, weight_decay, batch_size = 5, 100, 5, 0, 64\n",
    "for lr in range(1,50):\n",
    "    k, num_epochs, weight_decay,batch_size = 5, 100, 0,64\n",
    "    train_l, valid_l = k_fold(k, train_features, train_labels, num_epochs, lr,\n",
    "                          weight_decay, batch_size)\n",
    "    print(f'lr为{lr}时',f'{k}-折验证: 平均训练log rmse: {float(train_l):f}, 'f'平均验证log rmse: {float(valid_l):f}')"
   ],
   "metadata": {
    "collapsed": false,
    "pycharm": {
     "name": "#%%\n"
    }
   }
  },
  {
   "cell_type": "code",
   "execution_count": 56,
   "outputs": [],
   "source": [
    "def train_and_pred(train_features, test_feature, train_labels, test_data,\n",
    "                   num_epochs, lr, weight_decay, batch_size):\n",
    "    net = get_net()\n",
    "    train_ls, _ = train(net, train_features, train_labels, None, None,\n",
    "                        num_epochs, lr, weight_decay, batch_size)\n",
    "    d2l.plot(np.arange(1, num_epochs + 1), [train_ls], xlabel='epoch',\n",
    "             ylabel='log rmse', xlim=[1, num_epochs], yscale='log')\n",
    "    print(f'训练log rmse：{float(train_ls[-1]):f}')\n",
    "    # 将网络应用于测试集。\n",
    "    preds = net(test_features).detach().numpy()\n",
    "    # 将其重新格式化以导出到Kaggle\n",
    "    test_data['SalePrice'] = pd.Series(preds.reshape(1, -1)[0])\n",
    "    submission = pd.concat([test_data['Id'], test_data['SalePrice']], axis=1)\n",
    "    submission.to_csv('submission.csv', index=False)"
   ],
   "metadata": {
    "collapsed": false,
    "pycharm": {
     "name": "#%%\n"
    }
   }
  },
  {
   "cell_type": "code",
   "execution_count": 58,
   "outputs": [
    {
     "name": "stdout",
     "output_type": "stream",
     "text": [
      "训练log rmse：0.128679\n"
     ]
    },
    {
     "data": {
      "text/plain": "<Figure size 252x180 with 1 Axes>",
      "image/svg+xml": "<?xml version=\"1.0\" encoding=\"utf-8\" standalone=\"no\"?>\r\n<!DOCTYPE svg PUBLIC \"-//W3C//DTD SVG 1.1//EN\"\r\n  \"http://www.w3.org/Graphics/SVG/1.1/DTD/svg11.dtd\">\r\n<svg height=\"180.65625pt\" version=\"1.1\" viewBox=\"0 0 257.521875 180.65625\" width=\"257.521875pt\" xmlns=\"http://www.w3.org/2000/svg\" xmlns:xlink=\"http://www.w3.org/1999/xlink\">\r\n <metadata>\r\n  <rdf:RDF xmlns:cc=\"http://creativecommons.org/ns#\" xmlns:dc=\"http://purl.org/dc/elements/1.1/\" xmlns:rdf=\"http://www.w3.org/1999/02/22-rdf-syntax-ns#\">\r\n   <cc:Work>\r\n    <dc:type rdf:resource=\"http://purl.org/dc/dcmitype/StillImage\"/>\r\n    <dc:date>2022-03-05T12:35:07.487645</dc:date>\r\n    <dc:format>image/svg+xml</dc:format>\r\n    <dc:creator>\r\n     <cc:Agent>\r\n      <dc:title>Matplotlib v3.4.3, https://matplotlib.org/</dc:title>\r\n     </cc:Agent>\r\n    </dc:creator>\r\n   </cc:Work>\r\n  </rdf:RDF>\r\n </metadata>\r\n <defs>\r\n  <style type=\"text/css\">*{stroke-linecap:butt;stroke-linejoin:round;}</style>\r\n </defs>\r\n <g id=\"figure_1\">\r\n  <g id=\"patch_1\">\r\n   <path d=\"M 0 180.65625 \r\nL 257.521875 180.65625 \r\nL 257.521875 0 \r\nL 0 0 \r\nz\r\n\" style=\"fill:none;\"/>\r\n  </g>\r\n  <g id=\"axes_1\">\r\n   <g id=\"patch_2\">\r\n    <path d=\"M 45.478125 143.1 \r\nL 240.778125 143.1 \r\nL 240.778125 7.2 \r\nL 45.478125 7.2 \r\nz\r\n\" style=\"fill:#ffffff;\"/>\r\n   </g>\r\n   <g id=\"matplotlib.axis_1\">\r\n    <g id=\"xtick_1\">\r\n     <g id=\"line2d_1\">\r\n      <path clip-path=\"url(#p3122a97d59)\" d=\"M 82.959943 143.1 \r\nL 82.959943 7.2 \r\n\" style=\"fill:none;stroke:#b0b0b0;stroke-linecap:square;stroke-width:0.8;\"/>\r\n     </g>\r\n     <g id=\"line2d_2\">\r\n      <defs>\r\n       <path d=\"M 0 0 \r\nL 0 3.5 \r\n\" id=\"m6c422ae144\" style=\"stroke:#000000;stroke-width:0.8;\"/>\r\n      </defs>\r\n      <g>\r\n       <use style=\"stroke:#000000;stroke-width:0.8;\" x=\"82.959943\" xlink:href=\"#m6c422ae144\" y=\"143.1\"/>\r\n      </g>\r\n     </g>\r\n     <g id=\"text_1\">\r\n      <!-- 20 -->\r\n      <g transform=\"translate(76.597443 157.698438)scale(0.1 -0.1)\">\r\n       <defs>\r\n        <path d=\"M 1228 531 \r\nL 3431 531 \r\nL 3431 0 \r\nL 469 0 \r\nL 469 531 \r\nQ 828 903 1448 1529 \r\nQ 2069 2156 2228 2338 \r\nQ 2531 2678 2651 2914 \r\nQ 2772 3150 2772 3378 \r\nQ 2772 3750 2511 3984 \r\nQ 2250 4219 1831 4219 \r\nQ 1534 4219 1204 4116 \r\nQ 875 4013 500 3803 \r\nL 500 4441 \r\nQ 881 4594 1212 4672 \r\nQ 1544 4750 1819 4750 \r\nQ 2544 4750 2975 4387 \r\nQ 3406 4025 3406 3419 \r\nQ 3406 3131 3298 2873 \r\nQ 3191 2616 2906 2266 \r\nQ 2828 2175 2409 1742 \r\nQ 1991 1309 1228 531 \r\nz\r\n\" id=\"DejaVuSans-32\" transform=\"scale(0.015625)\"/>\r\n        <path d=\"M 2034 4250 \r\nQ 1547 4250 1301 3770 \r\nQ 1056 3291 1056 2328 \r\nQ 1056 1369 1301 889 \r\nQ 1547 409 2034 409 \r\nQ 2525 409 2770 889 \r\nQ 3016 1369 3016 2328 \r\nQ 3016 3291 2770 3770 \r\nQ 2525 4250 2034 4250 \r\nz\r\nM 2034 4750 \r\nQ 2819 4750 3233 4129 \r\nQ 3647 3509 3647 2328 \r\nQ 3647 1150 3233 529 \r\nQ 2819 -91 2034 -91 \r\nQ 1250 -91 836 529 \r\nQ 422 1150 422 2328 \r\nQ 422 3509 836 4129 \r\nQ 1250 4750 2034 4750 \r\nz\r\n\" id=\"DejaVuSans-30\" transform=\"scale(0.015625)\"/>\r\n       </defs>\r\n       <use xlink:href=\"#DejaVuSans-32\"/>\r\n       <use x=\"63.623047\" xlink:href=\"#DejaVuSans-30\"/>\r\n      </g>\r\n     </g>\r\n    </g>\r\n    <g id=\"xtick_2\">\r\n     <g id=\"line2d_3\">\r\n      <path clip-path=\"url(#p3122a97d59)\" d=\"M 122.414489 143.1 \r\nL 122.414489 7.2 \r\n\" style=\"fill:none;stroke:#b0b0b0;stroke-linecap:square;stroke-width:0.8;\"/>\r\n     </g>\r\n     <g id=\"line2d_4\">\r\n      <g>\r\n       <use style=\"stroke:#000000;stroke-width:0.8;\" x=\"122.414489\" xlink:href=\"#m6c422ae144\" y=\"143.1\"/>\r\n      </g>\r\n     </g>\r\n     <g id=\"text_2\">\r\n      <!-- 40 -->\r\n      <g transform=\"translate(116.051989 157.698438)scale(0.1 -0.1)\">\r\n       <defs>\r\n        <path d=\"M 2419 4116 \r\nL 825 1625 \r\nL 2419 1625 \r\nL 2419 4116 \r\nz\r\nM 2253 4666 \r\nL 3047 4666 \r\nL 3047 1625 \r\nL 3713 1625 \r\nL 3713 1100 \r\nL 3047 1100 \r\nL 3047 0 \r\nL 2419 0 \r\nL 2419 1100 \r\nL 313 1100 \r\nL 313 1709 \r\nL 2253 4666 \r\nz\r\n\" id=\"DejaVuSans-34\" transform=\"scale(0.015625)\"/>\r\n       </defs>\r\n       <use xlink:href=\"#DejaVuSans-34\"/>\r\n       <use x=\"63.623047\" xlink:href=\"#DejaVuSans-30\"/>\r\n      </g>\r\n     </g>\r\n    </g>\r\n    <g id=\"xtick_3\">\r\n     <g id=\"line2d_5\">\r\n      <path clip-path=\"url(#p3122a97d59)\" d=\"M 161.869034 143.1 \r\nL 161.869034 7.2 \r\n\" style=\"fill:none;stroke:#b0b0b0;stroke-linecap:square;stroke-width:0.8;\"/>\r\n     </g>\r\n     <g id=\"line2d_6\">\r\n      <g>\r\n       <use style=\"stroke:#000000;stroke-width:0.8;\" x=\"161.869034\" xlink:href=\"#m6c422ae144\" y=\"143.1\"/>\r\n      </g>\r\n     </g>\r\n     <g id=\"text_3\">\r\n      <!-- 60 -->\r\n      <g transform=\"translate(155.506534 157.698438)scale(0.1 -0.1)\">\r\n       <defs>\r\n        <path d=\"M 2113 2584 \r\nQ 1688 2584 1439 2293 \r\nQ 1191 2003 1191 1497 \r\nQ 1191 994 1439 701 \r\nQ 1688 409 2113 409 \r\nQ 2538 409 2786 701 \r\nQ 3034 994 3034 1497 \r\nQ 3034 2003 2786 2293 \r\nQ 2538 2584 2113 2584 \r\nz\r\nM 3366 4563 \r\nL 3366 3988 \r\nQ 3128 4100 2886 4159 \r\nQ 2644 4219 2406 4219 \r\nQ 1781 4219 1451 3797 \r\nQ 1122 3375 1075 2522 \r\nQ 1259 2794 1537 2939 \r\nQ 1816 3084 2150 3084 \r\nQ 2853 3084 3261 2657 \r\nQ 3669 2231 3669 1497 \r\nQ 3669 778 3244 343 \r\nQ 2819 -91 2113 -91 \r\nQ 1303 -91 875 529 \r\nQ 447 1150 447 2328 \r\nQ 447 3434 972 4092 \r\nQ 1497 4750 2381 4750 \r\nQ 2619 4750 2861 4703 \r\nQ 3103 4656 3366 4563 \r\nz\r\n\" id=\"DejaVuSans-36\" transform=\"scale(0.015625)\"/>\r\n       </defs>\r\n       <use xlink:href=\"#DejaVuSans-36\"/>\r\n       <use x=\"63.623047\" xlink:href=\"#DejaVuSans-30\"/>\r\n      </g>\r\n     </g>\r\n    </g>\r\n    <g id=\"xtick_4\">\r\n     <g id=\"line2d_7\">\r\n      <path clip-path=\"url(#p3122a97d59)\" d=\"M 201.32358 143.1 \r\nL 201.32358 7.2 \r\n\" style=\"fill:none;stroke:#b0b0b0;stroke-linecap:square;stroke-width:0.8;\"/>\r\n     </g>\r\n     <g id=\"line2d_8\">\r\n      <g>\r\n       <use style=\"stroke:#000000;stroke-width:0.8;\" x=\"201.32358\" xlink:href=\"#m6c422ae144\" y=\"143.1\"/>\r\n      </g>\r\n     </g>\r\n     <g id=\"text_4\">\r\n      <!-- 80 -->\r\n      <g transform=\"translate(194.96108 157.698438)scale(0.1 -0.1)\">\r\n       <defs>\r\n        <path d=\"M 2034 2216 \r\nQ 1584 2216 1326 1975 \r\nQ 1069 1734 1069 1313 \r\nQ 1069 891 1326 650 \r\nQ 1584 409 2034 409 \r\nQ 2484 409 2743 651 \r\nQ 3003 894 3003 1313 \r\nQ 3003 1734 2745 1975 \r\nQ 2488 2216 2034 2216 \r\nz\r\nM 1403 2484 \r\nQ 997 2584 770 2862 \r\nQ 544 3141 544 3541 \r\nQ 544 4100 942 4425 \r\nQ 1341 4750 2034 4750 \r\nQ 2731 4750 3128 4425 \r\nQ 3525 4100 3525 3541 \r\nQ 3525 3141 3298 2862 \r\nQ 3072 2584 2669 2484 \r\nQ 3125 2378 3379 2068 \r\nQ 3634 1759 3634 1313 \r\nQ 3634 634 3220 271 \r\nQ 2806 -91 2034 -91 \r\nQ 1263 -91 848 271 \r\nQ 434 634 434 1313 \r\nQ 434 1759 690 2068 \r\nQ 947 2378 1403 2484 \r\nz\r\nM 1172 3481 \r\nQ 1172 3119 1398 2916 \r\nQ 1625 2713 2034 2713 \r\nQ 2441 2713 2670 2916 \r\nQ 2900 3119 2900 3481 \r\nQ 2900 3844 2670 4047 \r\nQ 2441 4250 2034 4250 \r\nQ 1625 4250 1398 4047 \r\nQ 1172 3844 1172 3481 \r\nz\r\n\" id=\"DejaVuSans-38\" transform=\"scale(0.015625)\"/>\r\n       </defs>\r\n       <use xlink:href=\"#DejaVuSans-38\"/>\r\n       <use x=\"63.623047\" xlink:href=\"#DejaVuSans-30\"/>\r\n      </g>\r\n     </g>\r\n    </g>\r\n    <g id=\"xtick_5\">\r\n     <g id=\"line2d_9\">\r\n      <path clip-path=\"url(#p3122a97d59)\" d=\"M 240.778125 143.1 \r\nL 240.778125 7.2 \r\n\" style=\"fill:none;stroke:#b0b0b0;stroke-linecap:square;stroke-width:0.8;\"/>\r\n     </g>\r\n     <g id=\"line2d_10\">\r\n      <g>\r\n       <use style=\"stroke:#000000;stroke-width:0.8;\" x=\"240.778125\" xlink:href=\"#m6c422ae144\" y=\"143.1\"/>\r\n      </g>\r\n     </g>\r\n     <g id=\"text_5\">\r\n      <!-- 100 -->\r\n      <g transform=\"translate(231.234375 157.698438)scale(0.1 -0.1)\">\r\n       <defs>\r\n        <path d=\"M 794 531 \r\nL 1825 531 \r\nL 1825 4091 \r\nL 703 3866 \r\nL 703 4441 \r\nL 1819 4666 \r\nL 2450 4666 \r\nL 2450 531 \r\nL 3481 531 \r\nL 3481 0 \r\nL 794 0 \r\nL 794 531 \r\nz\r\n\" id=\"DejaVuSans-31\" transform=\"scale(0.015625)\"/>\r\n       </defs>\r\n       <use xlink:href=\"#DejaVuSans-31\"/>\r\n       <use x=\"63.623047\" xlink:href=\"#DejaVuSans-30\"/>\r\n       <use x=\"127.246094\" xlink:href=\"#DejaVuSans-30\"/>\r\n      </g>\r\n     </g>\r\n    </g>\r\n    <g id=\"text_6\">\r\n     <!-- epoch -->\r\n     <g transform=\"translate(127.9 171.376563)scale(0.1 -0.1)\">\r\n      <defs>\r\n       <path d=\"M 3597 1894 \r\nL 3597 1613 \r\nL 953 1613 \r\nQ 991 1019 1311 708 \r\nQ 1631 397 2203 397 \r\nQ 2534 397 2845 478 \r\nQ 3156 559 3463 722 \r\nL 3463 178 \r\nQ 3153 47 2828 -22 \r\nQ 2503 -91 2169 -91 \r\nQ 1331 -91 842 396 \r\nQ 353 884 353 1716 \r\nQ 353 2575 817 3079 \r\nQ 1281 3584 2069 3584 \r\nQ 2775 3584 3186 3129 \r\nQ 3597 2675 3597 1894 \r\nz\r\nM 3022 2063 \r\nQ 3016 2534 2758 2815 \r\nQ 2500 3097 2075 3097 \r\nQ 1594 3097 1305 2825 \r\nQ 1016 2553 972 2059 \r\nL 3022 2063 \r\nz\r\n\" id=\"DejaVuSans-65\" transform=\"scale(0.015625)\"/>\r\n       <path d=\"M 1159 525 \r\nL 1159 -1331 \r\nL 581 -1331 \r\nL 581 3500 \r\nL 1159 3500 \r\nL 1159 2969 \r\nQ 1341 3281 1617 3432 \r\nQ 1894 3584 2278 3584 \r\nQ 2916 3584 3314 3078 \r\nQ 3713 2572 3713 1747 \r\nQ 3713 922 3314 415 \r\nQ 2916 -91 2278 -91 \r\nQ 1894 -91 1617 61 \r\nQ 1341 213 1159 525 \r\nz\r\nM 3116 1747 \r\nQ 3116 2381 2855 2742 \r\nQ 2594 3103 2138 3103 \r\nQ 1681 3103 1420 2742 \r\nQ 1159 2381 1159 1747 \r\nQ 1159 1113 1420 752 \r\nQ 1681 391 2138 391 \r\nQ 2594 391 2855 752 \r\nQ 3116 1113 3116 1747 \r\nz\r\n\" id=\"DejaVuSans-70\" transform=\"scale(0.015625)\"/>\r\n       <path d=\"M 1959 3097 \r\nQ 1497 3097 1228 2736 \r\nQ 959 2375 959 1747 \r\nQ 959 1119 1226 758 \r\nQ 1494 397 1959 397 \r\nQ 2419 397 2687 759 \r\nQ 2956 1122 2956 1747 \r\nQ 2956 2369 2687 2733 \r\nQ 2419 3097 1959 3097 \r\nz\r\nM 1959 3584 \r\nQ 2709 3584 3137 3096 \r\nQ 3566 2609 3566 1747 \r\nQ 3566 888 3137 398 \r\nQ 2709 -91 1959 -91 \r\nQ 1206 -91 779 398 \r\nQ 353 888 353 1747 \r\nQ 353 2609 779 3096 \r\nQ 1206 3584 1959 3584 \r\nz\r\n\" id=\"DejaVuSans-6f\" transform=\"scale(0.015625)\"/>\r\n       <path d=\"M 3122 3366 \r\nL 3122 2828 \r\nQ 2878 2963 2633 3030 \r\nQ 2388 3097 2138 3097 \r\nQ 1578 3097 1268 2742 \r\nQ 959 2388 959 1747 \r\nQ 959 1106 1268 751 \r\nQ 1578 397 2138 397 \r\nQ 2388 397 2633 464 \r\nQ 2878 531 3122 666 \r\nL 3122 134 \r\nQ 2881 22 2623 -34 \r\nQ 2366 -91 2075 -91 \r\nQ 1284 -91 818 406 \r\nQ 353 903 353 1747 \r\nQ 353 2603 823 3093 \r\nQ 1294 3584 2113 3584 \r\nQ 2378 3584 2631 3529 \r\nQ 2884 3475 3122 3366 \r\nz\r\n\" id=\"DejaVuSans-63\" transform=\"scale(0.015625)\"/>\r\n       <path d=\"M 3513 2113 \r\nL 3513 0 \r\nL 2938 0 \r\nL 2938 2094 \r\nQ 2938 2591 2744 2837 \r\nQ 2550 3084 2163 3084 \r\nQ 1697 3084 1428 2787 \r\nQ 1159 2491 1159 1978 \r\nL 1159 0 \r\nL 581 0 \r\nL 581 4863 \r\nL 1159 4863 \r\nL 1159 2956 \r\nQ 1366 3272 1645 3428 \r\nQ 1925 3584 2291 3584 \r\nQ 2894 3584 3203 3211 \r\nQ 3513 2838 3513 2113 \r\nz\r\n\" id=\"DejaVuSans-68\" transform=\"scale(0.015625)\"/>\r\n      </defs>\r\n      <use xlink:href=\"#DejaVuSans-65\"/>\r\n      <use x=\"61.523438\" xlink:href=\"#DejaVuSans-70\"/>\r\n      <use x=\"125\" xlink:href=\"#DejaVuSans-6f\"/>\r\n      <use x=\"186.181641\" xlink:href=\"#DejaVuSans-63\"/>\r\n      <use x=\"241.162109\" xlink:href=\"#DejaVuSans-68\"/>\r\n     </g>\r\n    </g>\r\n   </g>\r\n   <g id=\"matplotlib.axis_2\">\r\n    <g id=\"ytick_1\">\r\n     <g id=\"line2d_11\">\r\n      <path clip-path=\"url(#p3122a97d59)\" d=\"M 45.478125 47.202409 \r\nL 240.778125 47.202409 \r\n\" style=\"fill:none;stroke:#b0b0b0;stroke-linecap:square;stroke-width:0.8;\"/>\r\n     </g>\r\n     <g id=\"line2d_12\">\r\n      <defs>\r\n       <path d=\"M 0 0 \r\nL -3.5 0 \r\n\" id=\"m7a2522aae1\" style=\"stroke:#000000;stroke-width:0.8;\"/>\r\n      </defs>\r\n      <g>\r\n       <use style=\"stroke:#000000;stroke-width:0.8;\" x=\"45.478125\" xlink:href=\"#m7a2522aae1\" y=\"47.202409\"/>\r\n      </g>\r\n     </g>\r\n     <g id=\"text_7\">\r\n      <!-- $\\mathdefault{10^{0}}$ -->\r\n      <g transform=\"translate(20.878125 51.001628)scale(0.1 -0.1)\">\r\n       <use transform=\"translate(0 0.765625)\" xlink:href=\"#DejaVuSans-31\"/>\r\n       <use transform=\"translate(63.623047 0.765625)\" xlink:href=\"#DejaVuSans-30\"/>\r\n       <use transform=\"translate(128.203125 39.046875)scale(0.7)\" xlink:href=\"#DejaVuSans-30\"/>\r\n      </g>\r\n     </g>\r\n    </g>\r\n    <g id=\"ytick_2\">\r\n     <g id=\"line2d_13\">\r\n      <defs>\r\n       <path d=\"M 0 0 \r\nL -2 0 \r\n\" id=\"m5fe180b1f2\" style=\"stroke:#000000;stroke-width:0.6;\"/>\r\n      </defs>\r\n      <g>\r\n       <use style=\"stroke:#000000;stroke-width:0.6;\" x=\"45.478125\" xlink:href=\"#m5fe180b1f2\" y=\"117.586947\"/>\r\n      </g>\r\n     </g>\r\n    </g>\r\n    <g id=\"ytick_3\">\r\n     <g id=\"line2d_14\">\r\n      <g>\r\n       <use style=\"stroke:#000000;stroke-width:0.6;\" x=\"45.478125\" xlink:href=\"#m5fe180b1f2\" y=\"99.854996\"/>\r\n      </g>\r\n     </g>\r\n    </g>\r\n    <g id=\"ytick_4\">\r\n     <g id=\"line2d_15\">\r\n      <g>\r\n       <use style=\"stroke:#000000;stroke-width:0.6;\" x=\"45.478125\" xlink:href=\"#m5fe180b1f2\" y=\"87.273977\"/>\r\n      </g>\r\n     </g>\r\n    </g>\r\n    <g id=\"ytick_5\">\r\n     <g id=\"line2d_16\">\r\n      <g>\r\n       <use style=\"stroke:#000000;stroke-width:0.6;\" x=\"45.478125\" xlink:href=\"#m5fe180b1f2\" y=\"77.51538\"/>\r\n      </g>\r\n     </g>\r\n    </g>\r\n    <g id=\"ytick_6\">\r\n     <g id=\"line2d_17\">\r\n      <g>\r\n       <use style=\"stroke:#000000;stroke-width:0.6;\" x=\"45.478125\" xlink:href=\"#m5fe180b1f2\" y=\"69.542026\"/>\r\n      </g>\r\n     </g>\r\n    </g>\r\n    <g id=\"ytick_7\">\r\n     <g id=\"line2d_18\">\r\n      <g>\r\n       <use style=\"stroke:#000000;stroke-width:0.6;\" x=\"45.478125\" xlink:href=\"#m5fe180b1f2\" y=\"62.800651\"/>\r\n      </g>\r\n     </g>\r\n    </g>\r\n    <g id=\"ytick_8\">\r\n     <g id=\"line2d_19\">\r\n      <g>\r\n       <use style=\"stroke:#000000;stroke-width:0.6;\" x=\"45.478125\" xlink:href=\"#m5fe180b1f2\" y=\"56.961006\"/>\r\n      </g>\r\n     </g>\r\n    </g>\r\n    <g id=\"ytick_9\">\r\n     <g id=\"line2d_20\">\r\n      <g>\r\n       <use style=\"stroke:#000000;stroke-width:0.6;\" x=\"45.478125\" xlink:href=\"#m5fe180b1f2\" y=\"51.810074\"/>\r\n      </g>\r\n     </g>\r\n    </g>\r\n    <g id=\"ytick_10\">\r\n     <g id=\"line2d_21\">\r\n      <g>\r\n       <use style=\"stroke:#000000;stroke-width:0.6;\" x=\"45.478125\" xlink:href=\"#m5fe180b1f2\" y=\"16.889439\"/>\r\n      </g>\r\n     </g>\r\n    </g>\r\n    <g id=\"text_8\">\r\n     <!-- log rmse -->\r\n     <g transform=\"translate(14.798438 96.88125)rotate(-90)scale(0.1 -0.1)\">\r\n      <defs>\r\n       <path d=\"M 603 4863 \r\nL 1178 4863 \r\nL 1178 0 \r\nL 603 0 \r\nL 603 4863 \r\nz\r\n\" id=\"DejaVuSans-6c\" transform=\"scale(0.015625)\"/>\r\n       <path d=\"M 2906 1791 \r\nQ 2906 2416 2648 2759 \r\nQ 2391 3103 1925 3103 \r\nQ 1463 3103 1205 2759 \r\nQ 947 2416 947 1791 \r\nQ 947 1169 1205 825 \r\nQ 1463 481 1925 481 \r\nQ 2391 481 2648 825 \r\nQ 2906 1169 2906 1791 \r\nz\r\nM 3481 434 \r\nQ 3481 -459 3084 -895 \r\nQ 2688 -1331 1869 -1331 \r\nQ 1566 -1331 1297 -1286 \r\nQ 1028 -1241 775 -1147 \r\nL 775 -588 \r\nQ 1028 -725 1275 -790 \r\nQ 1522 -856 1778 -856 \r\nQ 2344 -856 2625 -561 \r\nQ 2906 -266 2906 331 \r\nL 2906 616 \r\nQ 2728 306 2450 153 \r\nQ 2172 0 1784 0 \r\nQ 1141 0 747 490 \r\nQ 353 981 353 1791 \r\nQ 353 2603 747 3093 \r\nQ 1141 3584 1784 3584 \r\nQ 2172 3584 2450 3431 \r\nQ 2728 3278 2906 2969 \r\nL 2906 3500 \r\nL 3481 3500 \r\nL 3481 434 \r\nz\r\n\" id=\"DejaVuSans-67\" transform=\"scale(0.015625)\"/>\r\n       <path id=\"DejaVuSans-20\" transform=\"scale(0.015625)\"/>\r\n       <path d=\"M 2631 2963 \r\nQ 2534 3019 2420 3045 \r\nQ 2306 3072 2169 3072 \r\nQ 1681 3072 1420 2755 \r\nQ 1159 2438 1159 1844 \r\nL 1159 0 \r\nL 581 0 \r\nL 581 3500 \r\nL 1159 3500 \r\nL 1159 2956 \r\nQ 1341 3275 1631 3429 \r\nQ 1922 3584 2338 3584 \r\nQ 2397 3584 2469 3576 \r\nQ 2541 3569 2628 3553 \r\nL 2631 2963 \r\nz\r\n\" id=\"DejaVuSans-72\" transform=\"scale(0.015625)\"/>\r\n       <path d=\"M 3328 2828 \r\nQ 3544 3216 3844 3400 \r\nQ 4144 3584 4550 3584 \r\nQ 5097 3584 5394 3201 \r\nQ 5691 2819 5691 2113 \r\nL 5691 0 \r\nL 5113 0 \r\nL 5113 2094 \r\nQ 5113 2597 4934 2840 \r\nQ 4756 3084 4391 3084 \r\nQ 3944 3084 3684 2787 \r\nQ 3425 2491 3425 1978 \r\nL 3425 0 \r\nL 2847 0 \r\nL 2847 2094 \r\nQ 2847 2600 2669 2842 \r\nQ 2491 3084 2119 3084 \r\nQ 1678 3084 1418 2786 \r\nQ 1159 2488 1159 1978 \r\nL 1159 0 \r\nL 581 0 \r\nL 581 3500 \r\nL 1159 3500 \r\nL 1159 2956 \r\nQ 1356 3278 1631 3431 \r\nQ 1906 3584 2284 3584 \r\nQ 2666 3584 2933 3390 \r\nQ 3200 3197 3328 2828 \r\nz\r\n\" id=\"DejaVuSans-6d\" transform=\"scale(0.015625)\"/>\r\n       <path d=\"M 2834 3397 \r\nL 2834 2853 \r\nQ 2591 2978 2328 3040 \r\nQ 2066 3103 1784 3103 \r\nQ 1356 3103 1142 2972 \r\nQ 928 2841 928 2578 \r\nQ 928 2378 1081 2264 \r\nQ 1234 2150 1697 2047 \r\nL 1894 2003 \r\nQ 2506 1872 2764 1633 \r\nQ 3022 1394 3022 966 \r\nQ 3022 478 2636 193 \r\nQ 2250 -91 1575 -91 \r\nQ 1294 -91 989 -36 \r\nQ 684 19 347 128 \r\nL 347 722 \r\nQ 666 556 975 473 \r\nQ 1284 391 1588 391 \r\nQ 1994 391 2212 530 \r\nQ 2431 669 2431 922 \r\nQ 2431 1156 2273 1281 \r\nQ 2116 1406 1581 1522 \r\nL 1381 1569 \r\nQ 847 1681 609 1914 \r\nQ 372 2147 372 2553 \r\nQ 372 3047 722 3315 \r\nQ 1072 3584 1716 3584 \r\nQ 2034 3584 2315 3537 \r\nQ 2597 3491 2834 3397 \r\nz\r\n\" id=\"DejaVuSans-73\" transform=\"scale(0.015625)\"/>\r\n      </defs>\r\n      <use xlink:href=\"#DejaVuSans-6c\"/>\r\n      <use x=\"27.783203\" xlink:href=\"#DejaVuSans-6f\"/>\r\n      <use x=\"88.964844\" xlink:href=\"#DejaVuSans-67\"/>\r\n      <use x=\"152.441406\" xlink:href=\"#DejaVuSans-20\"/>\r\n      <use x=\"184.228516\" xlink:href=\"#DejaVuSans-72\"/>\r\n      <use x=\"223.591797\" xlink:href=\"#DejaVuSans-6d\"/>\r\n      <use x=\"321.003906\" xlink:href=\"#DejaVuSans-73\"/>\r\n      <use x=\"373.103516\" xlink:href=\"#DejaVuSans-65\"/>\r\n     </g>\r\n    </g>\r\n   </g>\r\n   <g id=\"line2d_22\">\r\n    <path clip-path=\"url(#p3122a97d59)\" d=\"M 45.478125 13.377273 \r\nL 47.450852 29.417901 \r\nL 49.42358 41.799662 \r\nL 51.396307 52.718947 \r\nL 53.369034 62.717879 \r\nL 55.341761 72.148932 \r\nL 57.314489 81.156962 \r\nL 59.287216 89.590645 \r\nL 61.259943 97.550879 \r\nL 63.23267 104.511272 \r\nL 65.205398 110.522153 \r\nL 67.178125 115.196624 \r\nL 69.150852 118.807332 \r\nL 71.12358 121.327853 \r\nL 73.096307 123.078445 \r\nL 75.069034 124.169886 \r\nL 77.041761 124.809067 \r\nL 79.014489 125.183253 \r\nL 80.987216 125.364385 \r\nL 82.959943 125.479052 \r\nL 84.93267 125.488408 \r\nL 86.905398 125.530712 \r\nL 88.878125 125.523816 \r\nL 90.850852 125.650264 \r\nL 92.82358 125.796631 \r\nL 94.796307 125.902744 \r\nL 96.769034 126.188312 \r\nL 98.741761 126.410625 \r\nL 100.714489 126.915226 \r\nL 102.687216 127.115609 \r\nL 104.659943 127.353199 \r\nL 106.63267 127.895671 \r\nL 108.605398 128.157345 \r\nL 110.578125 128.532837 \r\nL 112.550852 128.915571 \r\nL 114.52358 129.289589 \r\nL 116.496307 129.485047 \r\nL 118.469034 129.90962 \r\nL 120.441761 130.18765 \r\nL 122.414489 130.394412 \r\nL 124.387216 130.914941 \r\nL 126.359943 131.013473 \r\nL 128.33267 131.297029 \r\nL 130.305398 131.537473 \r\nL 132.278125 131.624882 \r\nL 134.250852 131.952623 \r\nL 136.22358 132.102103 \r\nL 138.196307 132.342753 \r\nL 140.169034 132.389373 \r\nL 142.141761 132.572928 \r\nL 144.114489 132.764798 \r\nL 146.087216 132.900993 \r\nL 148.059943 133.066705 \r\nL 150.03267 133.240592 \r\nL 152.005398 133.331998 \r\nL 153.978125 133.491578 \r\nL 155.950852 133.606026 \r\nL 157.92358 133.784449 \r\nL 159.896307 133.893451 \r\nL 161.869034 133.816025 \r\nL 163.841761 134.068194 \r\nL 165.814489 134.11681 \r\nL 167.787216 134.211588 \r\nL 169.759943 134.401013 \r\nL 171.73267 134.438958 \r\nL 173.705398 134.673001 \r\nL 175.678125 134.606189 \r\nL 177.650852 134.802874 \r\nL 179.62358 134.856047 \r\nL 181.596307 135.002077 \r\nL 183.569034 135.143115 \r\nL 185.541761 135.11313 \r\nL 187.514489 135.274033 \r\nL 189.487216 135.293064 \r\nL 191.459943 135.419346 \r\nL 193.43267 135.460569 \r\nL 195.405398 135.486368 \r\nL 197.378125 135.641193 \r\nL 199.350852 135.70468 \r\nL 201.32358 135.799779 \r\nL 203.296307 135.917526 \r\nL 205.269034 135.978017 \r\nL 207.241761 136.077687 \r\nL 209.214489 136.041165 \r\nL 211.187216 136.14588 \r\nL 213.159943 136.222751 \r\nL 215.13267 136.266382 \r\nL 217.105398 136.270337 \r\nL 219.078125 136.33381 \r\nL 221.050852 136.459656 \r\nL 223.02358 136.425998 \r\nL 224.996307 136.649169 \r\nL 226.969034 136.680388 \r\nL 228.941761 136.587673 \r\nL 230.914489 136.752513 \r\nL 232.887216 136.605598 \r\nL 234.859943 136.653618 \r\nL 236.83267 136.766646 \r\nL 238.805398 136.922727 \r\nL 240.778125 136.872598 \r\n\" style=\"fill:none;stroke:#1f77b4;stroke-linecap:square;stroke-width:1.5;\"/>\r\n   </g>\r\n   <g id=\"patch_3\">\r\n    <path d=\"M 45.478125 143.1 \r\nL 45.478125 7.2 \r\n\" style=\"fill:none;stroke:#000000;stroke-linecap:square;stroke-linejoin:miter;stroke-width:0.8;\"/>\r\n   </g>\r\n   <g id=\"patch_4\">\r\n    <path d=\"M 240.778125 143.1 \r\nL 240.778125 7.2 \r\n\" style=\"fill:none;stroke:#000000;stroke-linecap:square;stroke-linejoin:miter;stroke-width:0.8;\"/>\r\n   </g>\r\n   <g id=\"patch_5\">\r\n    <path d=\"M 45.478125 143.1 \r\nL 240.778125 143.1 \r\n\" style=\"fill:none;stroke:#000000;stroke-linecap:square;stroke-linejoin:miter;stroke-width:0.8;\"/>\r\n   </g>\r\n   <g id=\"patch_6\">\r\n    <path d=\"M 45.478125 7.2 \r\nL 240.778125 7.2 \r\n\" style=\"fill:none;stroke:#000000;stroke-linecap:square;stroke-linejoin:miter;stroke-width:0.8;\"/>\r\n   </g>\r\n  </g>\r\n </g>\r\n <defs>\r\n  <clipPath id=\"p3122a97d59\">\r\n   <rect height=\"135.9\" width=\"195.3\" x=\"45.478125\" y=\"7.2\"/>\r\n  </clipPath>\r\n </defs>\r\n</svg>\r\n"
     },
     "metadata": {
      "needs_background": "light"
     },
     "output_type": "display_data"
    }
   ],
   "source": [
    "k, num_epochs, weight_decay,batch_size,lr = 5, 100, 0,64,20\n",
    "train_and_pred(train_features, test_features, train_labels, test_data,\n",
    "               num_epochs, lr, weight_decay, batch_size)"
   ],
   "metadata": {
    "collapsed": false,
    "pycharm": {
     "name": "#%%\n"
    }
   }
  },
  {
   "cell_type": "code",
   "execution_count": null,
   "outputs": [],
   "source": [],
   "metadata": {
    "collapsed": false,
    "pycharm": {
     "name": "#%%\n"
    }
   }
  }
 ],
 "metadata": {
  "kernelspec": {
   "display_name": "Python 3",
   "language": "python",
   "name": "python3"
  },
  "language_info": {
   "codemirror_mode": {
    "name": "ipython",
    "version": 2
   },
   "file_extension": ".py",
   "mimetype": "text/x-python",
   "name": "python",
   "nbconvert_exporter": "python",
   "pygments_lexer": "ipython2",
   "version": "2.7.6"
  }
 },
 "nbformat": 4,
 "nbformat_minor": 0
}