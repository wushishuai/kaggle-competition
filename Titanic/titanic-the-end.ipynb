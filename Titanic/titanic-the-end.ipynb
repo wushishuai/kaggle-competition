{
 "cells": [
  {
   "cell_type": "code",
   "execution_count": 28,
   "id": "442b899d",
   "metadata": {
    "_cell_guid": "b1076dfc-b9ad-4769-8c92-a6c4dae69d19",
    "_uuid": "8f2839f25d086af736a60e9eeb907d3b93b6e0e5",
    "execution": {
     "iopub.execute_input": "2022-01-21T12:19:04.464591Z",
     "iopub.status.busy": "2022-01-21T12:19:04.463319Z",
     "iopub.status.idle": "2022-01-21T12:19:05.981750Z",
     "shell.execute_reply": "2022-01-21T12:19:05.980816Z",
     "shell.execute_reply.started": "2022-01-21T12:16:34.458690Z"
    },
    "papermill": {
     "duration": 1.549385,
     "end_time": "2022-01-21T12:19:05.981971",
     "exception": false,
     "start_time": "2022-01-21T12:19:04.432586",
     "status": "completed"
    },
    "tags": []
   },
   "outputs": [],
   "source": [
    "# This Python 3 environment comes with many helpful analytics libraries installed\n",
    "# It is defined by the kaggle/python Docker image: https://github.com/kaggle/docker-python\n",
    "# For example, here's several helpful packages to load\n",
    "\n",
    "import numpy as np # linear algebra\n",
    "import pandas as pd # data processing, CSV file I/O (e.g. pd.read_csv)\n",
    "import matplotlib.pyplot as plt\n",
    "import seaborn as sns\n",
    "from sklearn.ensemble import RandomForestClassifier\n",
    "from sklearn.linear_model import LogisticRegression\n",
    "from sklearn.metrics import accuracy_score\n",
    "from sklearn.model_selection import cross_val_score, GridSearchCV\n",
    "from sklearn.preprocessing import LabelEncoder\n",
    "import warnings\n",
    "warnings.filterwarnings('ignore')\n",
    "# Input data files are available in the read-only \"../input/\" directory\n",
    "# For example, running this (by clicking run or pressing Shift+Enter) will list all files under the input directory\n",
    "\n",
    "import os\n",
    "for dirname, _, filenames in os.walk('/kaggle/input'):\n",
    "    for filename in filenames:\n",
    "        print(os.path.join(dirname, filename))\n",
    "\n",
    "# You can write up to 20GB to the current directory (/kaggle/working/) that gets preserved as output when you create a version using \"Save & Run All\" \n",
    "# You can also write temporary files to /kaggle/temp/, but they won't be saved outside of the current session"
   ]
  },
  {
   "cell_type": "code",
   "execution_count": 29,
   "id": "59bf71e6",
   "metadata": {
    "execution": {
     "iopub.execute_input": "2022-01-21T12:19:06.040585Z",
     "iopub.status.busy": "2022-01-21T12:19:06.039900Z",
     "iopub.status.idle": "2022-01-21T12:19:06.075400Z",
     "shell.execute_reply": "2022-01-21T12:19:06.075926Z",
     "shell.execute_reply.started": "2022-01-21T12:16:36.032021Z"
    },
    "papermill": {
     "duration": 0.066367,
     "end_time": "2022-01-21T12:19:06.076115",
     "exception": false,
     "start_time": "2022-01-21T12:19:06.009748",
     "status": "completed"
    },
    "tags": []
   },
   "outputs": [],
   "source": [
    "train_df = pd.read_csv('train.csv')\n",
    "test_df = pd.read_csv('test.csv')"
   ]
  },
  {
   "cell_type": "code",
   "execution_count": 30,
   "id": "ab4a895a",
   "metadata": {
    "execution": {
     "iopub.execute_input": "2022-01-21T12:19:06.137178Z",
     "iopub.status.busy": "2022-01-21T12:19:06.136188Z",
     "iopub.status.idle": "2022-01-21T12:19:06.172917Z",
     "shell.execute_reply": "2022-01-21T12:19:06.173861Z",
     "shell.execute_reply.started": "2022-01-21T12:16:36.066775Z"
    },
    "papermill": {
     "duration": 0.068399,
     "end_time": "2022-01-21T12:19:06.174081",
     "exception": false,
     "start_time": "2022-01-21T12:19:06.105682",
     "status": "completed"
    },
    "tags": []
   },
   "outputs": [
    {
     "name": "stdout",
     "output_type": "stream",
     "text": [
      "<class 'pandas.core.frame.DataFrame'>\n",
      "RangeIndex: 1309 entries, 0 to 1308\n",
      "Data columns (total 12 columns):\n",
      " #   Column       Non-Null Count  Dtype  \n",
      "---  ------       --------------  -----  \n",
      " 0   Age          1046 non-null   float64\n",
      " 1   Cabin        295 non-null    object \n",
      " 2   Embarked     1307 non-null   object \n",
      " 3   Fare         1308 non-null   float64\n",
      " 4   Name         1309 non-null   object \n",
      " 5   Parch        1309 non-null   int64  \n",
      " 6   PassengerId  1309 non-null   int64  \n",
      " 7   Pclass       1309 non-null   int64  \n",
      " 8   Sex          1309 non-null   object \n",
      " 9   SibSp        1309 non-null   int64  \n",
      " 10  Survived     891 non-null    float64\n",
      " 11  Ticket       1309 non-null   object \n",
      "dtypes: float64(3), int64(4), object(5)\n",
      "memory usage: 122.8+ KB\n"
     ]
    }
   ],
   "source": [
    "def combine_data(train,test):\n",
    "    return pd.concat([train,test],sort=True).reset_index(drop=True)\n",
    "\n",
    "def divide_data(data):\n",
    "    return data.loc[:890],data.loc[891:].drop(['Survived'],axis=1)\n",
    "\n",
    "all_data = combine_data(train_df,test_df)\n",
    "all_data.info()"
   ]
  },
  {
   "cell_type": "markdown",
   "id": "72707984",
   "metadata": {
    "papermill": {
     "duration": 0.026558,
     "end_time": "2022-01-21T12:19:06.227487",
     "exception": false,
     "start_time": "2022-01-21T12:19:06.200929",
     "status": "completed"
    },
    "tags": []
   },
   "source": [
    "# Data Exploration"
   ]
  },
  {
   "cell_type": "markdown",
   "id": "8e55b727",
   "metadata": {
    "papermill": {
     "duration": 0.02763,
     "end_time": "2022-01-21T12:19:06.283749",
     "exception": false,
     "start_time": "2022-01-21T12:19:06.256119",
     "status": "completed"
    },
    "tags": []
   },
   "source": [
    "## Cabin"
   ]
  },
  {
   "cell_type": "code",
   "execution_count": 31,
   "id": "5e2e207c",
   "metadata": {
    "execution": {
     "iopub.execute_input": "2022-01-21T12:19:06.347565Z",
     "iopub.status.busy": "2022-01-21T12:19:06.346804Z",
     "iopub.status.idle": "2022-01-21T12:19:06.350036Z",
     "shell.execute_reply": "2022-01-21T12:19:06.349445Z",
     "shell.execute_reply.started": "2022-01-21T12:16:36.107810Z"
    },
    "papermill": {
     "duration": 0.038645,
     "end_time": "2022-01-21T12:19:06.350380",
     "exception": false,
     "start_time": "2022-01-21T12:19:06.311735",
     "status": "completed"
    },
    "tags": []
   },
   "outputs": [],
   "source": [
    "# We can see that most of the values in cabin are empty, so we can drop it\n",
    "train_df.drop('Cabin',axis=1,inplace=True)\n",
    "test_df.drop('Cabin',axis=1,inplace=True)"
   ]
  },
  {
   "cell_type": "markdown",
   "id": "22b6008f",
   "metadata": {
    "papermill": {
     "duration": 0.026763,
     "end_time": "2022-01-21T12:19:06.405855",
     "exception": false,
     "start_time": "2022-01-21T12:19:06.379092",
     "status": "completed"
    },
    "tags": []
   },
   "source": [
    "# Age"
   ]
  },
  {
   "cell_type": "code",
   "execution_count": 32,
   "id": "117643ed",
   "metadata": {
    "execution": {
     "iopub.execute_input": "2022-01-21T12:19:06.468444Z",
     "iopub.status.busy": "2022-01-21T12:19:06.467643Z",
     "iopub.status.idle": "2022-01-21T12:19:06.487701Z",
     "shell.execute_reply": "2022-01-21T12:19:06.488198Z",
     "shell.execute_reply.started": "2022-01-21T12:16:36.119055Z"
    },
    "papermill": {
     "duration": 0.054393,
     "end_time": "2022-01-21T12:19:06.488397",
     "exception": false,
     "start_time": "2022-01-21T12:19:06.434004",
     "status": "completed"
    },
    "tags": []
   },
   "outputs": [
    {
     "data": {
      "text/plain": "Mr          757\nMiss        260\nMrs         197\nMaster       61\nRev           8\nDr            8\nCol           4\nMlle          2\nMajor         2\nMs            2\nLady          1\nSir           1\nMme           1\nDon           1\nCapt          1\nCountess      1\nJonkheer      1\nDona          1\nName: Title, dtype: int64"
     },
     "execution_count": 32,
     "metadata": {},
     "output_type": "execute_result"
    }
   ],
   "source": [
    "whole_df = train_df.append(test_df)\n",
    "whole_df['Title'] = whole_df.Name.str.extract(r'([A-Za-z]+)\\.',expand=False)\n",
    "whole_df.Title.value_counts()"
   ]
  },
  {
   "cell_type": "code",
   "execution_count": 33,
   "id": "ae433dfa",
   "metadata": {
    "execution": {
     "iopub.execute_input": "2022-01-21T12:19:06.546311Z",
     "iopub.status.busy": "2022-01-21T12:19:06.545605Z",
     "iopub.status.idle": "2022-01-21T12:19:06.557664Z",
     "shell.execute_reply": "2022-01-21T12:19:06.556908Z",
     "shell.execute_reply.started": "2022-01-21T12:16:36.150692Z"
    },
    "papermill": {
     "duration": 0.042015,
     "end_time": "2022-01-21T12:19:06.557870",
     "exception": false,
     "start_time": "2022-01-21T12:19:06.515855",
     "status": "completed"
    },
    "tags": []
   },
   "outputs": [],
   "source": [
    "Common_Title = ['Mr','Mrs','Master']\n",
    "whole_df['Title'].replace(['Lady','Mlle','Ms','Mme','Miss'],'Mrs',inplace=True)\n",
    "whole_df['Title'].replace(['Sir', 'Rev'], 'Mr', inplace=True)\n",
    "whole_df['Title'][~whole_df.Title.isin(Common_Title)] = 'Others'"
   ]
  },
  {
   "cell_type": "code",
   "execution_count": 34,
   "id": "4cad6a98",
   "metadata": {
    "execution": {
     "iopub.execute_input": "2022-01-21T12:19:06.617813Z",
     "iopub.status.busy": "2022-01-21T12:19:06.616974Z",
     "iopub.status.idle": "2022-01-21T12:19:06.625126Z",
     "shell.execute_reply": "2022-01-21T12:19:06.625707Z",
     "shell.execute_reply.started": "2022-01-21T12:16:36.168830Z"
    },
    "papermill": {
     "duration": 0.039728,
     "end_time": "2022-01-21T12:19:06.625894",
     "exception": false,
     "start_time": "2022-01-21T12:19:06.586166",
     "status": "completed"
    },
    "tags": []
   },
   "outputs": [],
   "source": [
    "train_df = whole_df[:len(train_df)]\n",
    "test_df = whole_df[len(train_df):]\n",
    "AgeMedian_by_titles = train_df.groupby('Title')['Age'].median()\n"
   ]
  },
  {
   "cell_type": "code",
   "execution_count": 35,
   "id": "4997d7b1",
   "metadata": {
    "execution": {
     "iopub.execute_input": "2022-01-21T12:19:06.685719Z",
     "iopub.status.busy": "2022-01-21T12:19:06.685045Z",
     "iopub.status.idle": "2022-01-21T12:19:06.707892Z",
     "shell.execute_reply": "2022-01-21T12:19:06.708432Z",
     "shell.execute_reply.started": "2022-01-21T12:16:36.180366Z"
    },
    "papermill": {
     "duration": 0.054734,
     "end_time": "2022-01-21T12:19:06.708609",
     "exception": false,
     "start_time": "2022-01-21T12:19:06.653875",
     "status": "completed"
    },
    "tags": []
   },
   "outputs": [],
   "source": [
    "for title in AgeMedian_by_titles.index:\n",
    "    train_df['Age'][(train_df.Age.isnull()) & (train_df.Title == title)] = AgeMedian_by_titles[title]\n",
    "    test_df['Age'][(test_df.Age.isnull()) & (test_df.Title == title)] = AgeMedian_by_titles[title]"
   ]
  },
  {
   "cell_type": "code",
   "execution_count": 36,
   "id": "640d35e1",
   "metadata": {
    "execution": {
     "iopub.execute_input": "2022-01-21T12:19:06.770445Z",
     "iopub.status.busy": "2022-01-21T12:19:06.769724Z",
     "iopub.status.idle": "2022-01-21T12:19:06.783979Z",
     "shell.execute_reply": "2022-01-21T12:19:06.784623Z",
     "shell.execute_reply.started": "2022-01-21T12:16:36.216910Z"
    },
    "papermill": {
     "duration": 0.045284,
     "end_time": "2022-01-21T12:19:06.784838",
     "exception": false,
     "start_time": "2022-01-21T12:19:06.739554",
     "status": "completed"
    },
    "tags": []
   },
   "outputs": [
    {
     "name": "stdout",
     "output_type": "stream",
     "text": [
      "<class 'pandas.core.frame.DataFrame'>\n",
      "Int64Index: 418 entries, 0 to 417\n",
      "Data columns (total 12 columns):\n",
      " #   Column       Non-Null Count  Dtype  \n",
      "---  ------       --------------  -----  \n",
      " 0   PassengerId  418 non-null    int64  \n",
      " 1   Survived     0 non-null      float64\n",
      " 2   Pclass       418 non-null    int64  \n",
      " 3   Name         418 non-null    object \n",
      " 4   Sex          418 non-null    object \n",
      " 5   Age          418 non-null    float64\n",
      " 6   SibSp        418 non-null    int64  \n",
      " 7   Parch        418 non-null    int64  \n",
      " 8   Ticket       418 non-null    object \n",
      " 9   Fare         417 non-null    float64\n",
      " 10  Embarked     418 non-null    object \n",
      " 11  Title        418 non-null    object \n",
      "dtypes: float64(3), int64(4), object(5)\n",
      "memory usage: 42.5+ KB\n"
     ]
    }
   ],
   "source": [
    "test_df.info()"
   ]
  },
  {
   "cell_type": "markdown",
   "id": "1bb68630",
   "metadata": {
    "papermill": {
     "duration": 0.028149,
     "end_time": "2022-01-21T12:19:06.842330",
     "exception": false,
     "start_time": "2022-01-21T12:19:06.814181",
     "status": "completed"
    },
    "tags": []
   },
   "source": [
    "## Embarked"
   ]
  },
  {
   "cell_type": "code",
   "execution_count": 37,
   "id": "90a7102b",
   "metadata": {
    "execution": {
     "iopub.execute_input": "2022-01-21T12:19:06.907490Z",
     "iopub.status.busy": "2022-01-21T12:19:06.906725Z",
     "iopub.status.idle": "2022-01-21T12:19:06.908088Z",
     "shell.execute_reply": "2022-01-21T12:19:06.908693Z",
     "shell.execute_reply.started": "2022-01-21T12:16:36.241579Z"
    },
    "papermill": {
     "duration": 0.036375,
     "end_time": "2022-01-21T12:19:06.908877",
     "exception": false,
     "start_time": "2022-01-21T12:19:06.872502",
     "status": "completed"
    },
    "tags": []
   },
   "outputs": [],
   "source": [
    "train_df['Embarked'].fillna('S',inplace=True)"
   ]
  },
  {
   "cell_type": "markdown",
   "id": "39da5844",
   "metadata": {
    "papermill": {
     "duration": 0.02758,
     "end_time": "2022-01-21T12:19:06.965269",
     "exception": false,
     "start_time": "2022-01-21T12:19:06.937689",
     "status": "completed"
    },
    "tags": []
   },
   "source": []
  },
  {
   "cell_type": "markdown",
   "id": "d906a2d1",
   "metadata": {
    "papermill": {
     "duration": 0.028536,
     "end_time": "2022-01-21T12:19:07.021928",
     "exception": false,
     "start_time": "2022-01-21T12:19:06.993392",
     "status": "completed"
    },
    "tags": []
   },
   "source": [
    "## Fare"
   ]
  },
  {
   "cell_type": "code",
   "execution_count": 38,
   "id": "74259782",
   "metadata": {
    "execution": {
     "iopub.execute_input": "2022-01-21T12:19:07.081368Z",
     "iopub.status.busy": "2022-01-21T12:19:07.080708Z",
     "iopub.status.idle": "2022-01-21T12:19:07.100276Z",
     "shell.execute_reply": "2022-01-21T12:19:07.100844Z",
     "shell.execute_reply.started": "2022-01-21T12:16:36.252143Z"
    },
    "papermill": {
     "duration": 0.051977,
     "end_time": "2022-01-21T12:19:07.101035",
     "exception": false,
     "start_time": "2022-01-21T12:19:07.049058",
     "status": "completed"
    },
    "tags": []
   },
   "outputs": [
    {
     "data": {
      "text/plain": "     PassengerId  Survived  Pclass                Name   Sex   Age  SibSp  \\\n152         1044       NaN       3  Storey, Mr. Thomas  male  60.5      0   \n\n     Parch Ticket  Fare Embarked Title  \n152      0   3701   NaN        S    Mr  ",
      "text/html": "<div>\n<style scoped>\n    .dataframe tbody tr th:only-of-type {\n        vertical-align: middle;\n    }\n\n    .dataframe tbody tr th {\n        vertical-align: top;\n    }\n\n    .dataframe thead th {\n        text-align: right;\n    }\n</style>\n<table border=\"1\" class=\"dataframe\">\n  <thead>\n    <tr style=\"text-align: right;\">\n      <th></th>\n      <th>PassengerId</th>\n      <th>Survived</th>\n      <th>Pclass</th>\n      <th>Name</th>\n      <th>Sex</th>\n      <th>Age</th>\n      <th>SibSp</th>\n      <th>Parch</th>\n      <th>Ticket</th>\n      <th>Fare</th>\n      <th>Embarked</th>\n      <th>Title</th>\n    </tr>\n  </thead>\n  <tbody>\n    <tr>\n      <th>152</th>\n      <td>1044</td>\n      <td>NaN</td>\n      <td>3</td>\n      <td>Storey, Mr. Thomas</td>\n      <td>male</td>\n      <td>60.5</td>\n      <td>0</td>\n      <td>0</td>\n      <td>3701</td>\n      <td>NaN</td>\n      <td>S</td>\n      <td>Mr</td>\n    </tr>\n  </tbody>\n</table>\n</div>"
     },
     "execution_count": 38,
     "metadata": {},
     "output_type": "execute_result"
    }
   ],
   "source": [
    "test_df[test_df['Fare'].isnull()]"
   ]
  },
  {
   "cell_type": "code",
   "execution_count": 39,
   "id": "cfa6b39d",
   "metadata": {
    "execution": {
     "iopub.execute_input": "2022-01-21T12:19:07.165152Z",
     "iopub.status.busy": "2022-01-21T12:19:07.164345Z",
     "iopub.status.idle": "2022-01-21T12:19:07.169268Z",
     "shell.execute_reply": "2022-01-21T12:19:07.169842Z",
     "shell.execute_reply.started": "2022-01-21T12:16:36.280891Z"
    },
    "papermill": {
     "duration": 0.039449,
     "end_time": "2022-01-21T12:19:07.170052",
     "exception": false,
     "start_time": "2022-01-21T12:19:07.130603",
     "status": "completed"
    },
    "tags": []
   },
   "outputs": [],
   "source": [
    "test_df['Fare'].fillna(7.854, inplace=True)"
   ]
  },
  {
   "cell_type": "code",
   "execution_count": 40,
   "id": "c6ea1de6",
   "metadata": {
    "execution": {
     "iopub.execute_input": "2022-01-21T12:19:07.230604Z",
     "iopub.status.busy": "2022-01-21T12:19:07.229935Z",
     "iopub.status.idle": "2022-01-21T12:19:07.234910Z",
     "shell.execute_reply": "2022-01-21T12:19:07.235482Z",
     "shell.execute_reply.started": "2022-01-21T12:16:36.289597Z"
    },
    "papermill": {
     "duration": 0.037083,
     "end_time": "2022-01-21T12:19:07.235660",
     "exception": false,
     "start_time": "2022-01-21T12:19:07.198577",
     "status": "completed"
    },
    "tags": []
   },
   "outputs": [],
   "source": [
    "train_df['Fare'].sort_values(ascending=False).head()\n",
    "train_df.loc[train_df.Fare>512, 'Fare'] = 263"
   ]
  },
  {
   "cell_type": "markdown",
   "id": "a97082d4",
   "metadata": {
    "papermill": {
     "duration": 0.027512,
     "end_time": "2022-01-21T12:19:07.291678",
     "exception": false,
     "start_time": "2022-01-21T12:19:07.264166",
     "status": "completed"
    },
    "tags": []
   },
   "source": [
    "## Data Transformation"
   ]
  },
  {
   "cell_type": "code",
   "execution_count": 41,
   "id": "f2bb4009",
   "metadata": {
    "execution": {
     "iopub.execute_input": "2022-01-21T12:19:07.351698Z",
     "iopub.status.busy": "2022-01-21T12:19:07.350734Z",
     "iopub.status.idle": "2022-01-21T12:19:07.362185Z",
     "shell.execute_reply": "2022-01-21T12:19:07.362985Z",
     "shell.execute_reply.started": "2022-01-21T12:16:36.306600Z"
    },
    "papermill": {
     "duration": 0.04324,
     "end_time": "2022-01-21T12:19:07.363196",
     "exception": false,
     "start_time": "2022-01-21T12:19:07.319956",
     "status": "completed"
    },
    "tags": []
   },
   "outputs": [],
   "source": [
    "train_df['Sex'] = train_df['Sex'].map({'female':1,'male':0}).astype('int')\n",
    "test_df['Sex'] = test_df['Sex'].map({'female':1, 'male':0}).astype('int')\n",
    "\n",
    "train_df['Embarked'] = train_df['Embarked'].map({'S':0, 'C':1, 'Q':2}).astype('int')\n",
    "test_df['Embarked'] = test_df['Embarked'].map({'S':0, 'C':1, 'Q':2}).astype('int')"
   ]
  },
  {
   "cell_type": "code",
   "execution_count": 42,
   "id": "1a29fab5",
   "metadata": {
    "execution": {
     "iopub.execute_input": "2022-01-21T12:19:07.422578Z",
     "iopub.status.busy": "2022-01-21T12:19:07.421803Z",
     "iopub.status.idle": "2022-01-21T12:19:07.852184Z",
     "shell.execute_reply": "2022-01-21T12:19:07.852786Z",
     "shell.execute_reply.started": "2022-01-21T12:16:36.321908Z"
    },
    "papermill": {
     "duration": 0.462054,
     "end_time": "2022-01-21T12:19:07.852983",
     "exception": false,
     "start_time": "2022-01-21T12:19:07.390929",
     "status": "completed"
    },
    "tags": []
   },
   "outputs": [
    {
     "data": {
      "text/plain": "<Figure size 864x360 with 1 Axes>",
      "image/png": "[encoded data removed]"
     },
     "metadata": {
      "needs_background": "light"
     },
     "output_type": "display_data"
    }
   ],
   "source": [
    "train_df['AgeBin_5'] = pd.qcut(train_df['Age'], 5)\n",
    "test_df['AgeBin_5'] = pd.qcut(test_df['Age'], 5)\n",
    "\n",
    "fig = plt.figure(figsize=(12,5))\n",
    "sns.barplot(x='AgeBin_5', y='Survived', data=train_df)\n",
    "plt.show()"
   ]
  },
  {
   "cell_type": "code",
   "execution_count": 43,
   "id": "1ea984b7",
   "metadata": {
    "execution": {
     "iopub.execute_input": "2022-01-21T12:19:07.936243Z",
     "iopub.status.busy": "2022-01-21T12:19:07.923395Z",
     "iopub.status.idle": "2022-01-21T12:19:08.312591Z",
     "shell.execute_reply": "2022-01-21T12:19:08.313171Z",
     "shell.execute_reply.started": "2022-01-21T12:16:36.728293Z"
    },
    "papermill": {
     "duration": 0.428677,
     "end_time": "2022-01-21T12:19:08.313371",
     "exception": false,
     "start_time": "2022-01-21T12:19:07.884694",
     "status": "completed"
    },
    "tags": []
   },
   "outputs": [
    {
     "data": {
      "text/plain": "<Figure size 864x360 with 1 Axes>",
      "image/png": "[encoded data removed]"
     },
     "metadata": {
      "needs_background": "light"
     },
     "output_type": "display_data"
    }
   ],
   "source": [
    "train_df['FareBin_5'] = pd.qcut(train_df['Fare'], 5)\n",
    "test_df['FareBin_5'] = pd.qcut(test_df['Fare'], 5)\n",
    "\n",
    "fig = plt.figure(figsize=(12,5))\n",
    "sns.barplot(x='FareBin_5', y='Survived', data=train_df)\n",
    "plt.show()"
   ]
  },
  {
   "cell_type": "code",
   "execution_count": 44,
   "id": "d329b3b9",
   "metadata": {
    "execution": {
     "iopub.execute_input": "2022-01-21T12:19:08.376818Z",
     "iopub.status.busy": "2022-01-21T12:19:08.375940Z",
     "iopub.status.idle": "2022-01-21T12:19:08.395585Z",
     "shell.execute_reply": "2022-01-21T12:19:08.395016Z",
     "shell.execute_reply.started": "2022-01-21T12:16:37.132518Z"
    },
    "papermill": {
     "duration": 0.052211,
     "end_time": "2022-01-21T12:19:08.395743",
     "exception": false,
     "start_time": "2022-01-21T12:19:08.343532",
     "status": "completed"
    },
    "tags": []
   },
   "outputs": [],
   "source": [
    "label = LabelEncoder()\n",
    "train_df['AgeBin_Code_5'] = label.fit_transform(train_df['AgeBin_5'])\n",
    "test_df['AgeBin_Code_5'] = label.fit_transform(test_df['AgeBin_5'])\n",
    "label = LabelEncoder()\n",
    "train_df['FareBin_Code_5'] = label.fit_transform(train_df['FareBin_5'])\n",
    "test_df['FareBin_Code_5'] = label.fit_transform(test_df['FareBin_5'])"
   ]
  },
  {
   "cell_type": "code",
   "execution_count": 45,
   "id": "d35b0bd8",
   "metadata": {
    "execution": {
     "iopub.execute_input": "2022-01-21T12:19:08.470792Z",
     "iopub.status.busy": "2022-01-21T12:19:08.464404Z",
     "iopub.status.idle": "2022-01-21T12:19:08.473208Z",
     "shell.execute_reply": "2022-01-21T12:19:08.473775Z",
     "shell.execute_reply.started": "2022-01-21T12:16:37.157463Z"
    },
    "papermill": {
     "duration": 0.048869,
     "end_time": "2022-01-21T12:19:08.474006",
     "exception": false,
     "start_time": "2022-01-21T12:19:08.425137",
     "status": "completed"
    },
    "tags": []
   },
   "outputs": [],
   "source": [
    "train_df['FamilySize'] = train_df.SibSp + train_df.Parch + 1\n",
    "test_df['FamilySize'] = test_df.SibSp + test_df.Parch + 1\n",
    "\n",
    "train_df['Alone'] = train_df.FamilySize.map(lambda x: 1 if x == 1 else 0)\n",
    "test_df['Alone'] = test_df.FamilySize.map(lambda x: 1 if x == 1 else 0)"
   ]
  },
  {
   "cell_type": "code",
   "execution_count": 46,
   "id": "a247cfb1",
   "metadata": {
    "execution": {
     "iopub.execute_input": "2022-01-21T12:19:08.539209Z",
     "iopub.status.busy": "2022-01-21T12:19:08.538530Z",
     "iopub.status.idle": "2022-01-21T12:19:08.546731Z",
     "shell.execute_reply": "2022-01-21T12:19:08.547227Z",
     "shell.execute_reply.started": "2022-01-21T12:16:37.180212Z"
    },
    "papermill": {
     "duration": 0.041287,
     "end_time": "2022-01-21T12:19:08.547441",
     "exception": false,
     "start_time": "2022-01-21T12:19:08.506154",
     "status": "completed"
    },
    "tags": []
   },
   "outputs": [],
   "source": [
    "train_df['Title_Code'] = train_df.Title.map({'Mr':0, 'Mrs':1, 'Master':2, 'Others':3}).astype('int')\n",
    "test_df['Title_Code'] = test_df.Title.map({'Mr':0, 'Mrs':1, 'Master':2, 'Others':3}).astype('int')"
   ]
  },
  {
   "cell_type": "code",
   "execution_count": 47,
   "id": "c027481a",
   "metadata": {
    "execution": {
     "iopub.execute_input": "2022-01-21T12:19:08.611758Z",
     "iopub.status.busy": "2022-01-21T12:19:08.611008Z",
     "iopub.status.idle": "2022-01-21T12:19:08.811680Z",
     "shell.execute_reply": "2022-01-21T12:19:08.811065Z",
     "shell.execute_reply.started": "2022-01-21T12:16:37.197988Z"
    },
    "papermill": {
     "duration": 0.233935,
     "end_time": "2022-01-21T12:19:08.811848",
     "exception": false,
     "start_time": "2022-01-21T12:19:08.577913",
     "status": "completed"
    },
    "tags": []
   },
   "outputs": [
    {
     "data": {
      "text/plain": "<Figure size 432x288 with 1 Axes>",
      "image/png": "[encoded data removed]"
     },
     "metadata": {
      "needs_background": "light"
     },
     "output_type": "display_data"
    }
   ],
   "source": [
    "whole_df = train_df.append(test_df)\n",
    "whole_df['Surname'] = whole_df.Name.str.extract(r'([A-Za-z]+),', expand=False)\n",
    "whole_df['TixPref'] = whole_df.Ticket.str.extract(r'(.*\\d)', expand=False)\n",
    "whole_df['SurTix'] = whole_df['Surname'] + whole_df['TixPref']\n",
    "whole_df['IsFamily'] = whole_df.SurTix.duplicated(keep=False)*1\n",
    "sns.countplot(whole_df.IsFamily)\n",
    "plt.show()"
   ]
  },
  {
   "cell_type": "code",
   "execution_count": 48,
   "id": "6912b901",
   "metadata": {
    "execution": {
     "iopub.execute_input": "2022-01-21T12:19:08.885177Z",
     "iopub.status.busy": "2022-01-21T12:19:08.884410Z",
     "iopub.status.idle": "2022-01-21T12:19:08.896492Z",
     "shell.execute_reply": "2022-01-21T12:19:08.897451Z",
     "shell.execute_reply.started": "2022-01-21T12:16:37.397304Z"
    },
    "papermill": {
     "duration": 0.051322,
     "end_time": "2022-01-21T12:19:08.897783",
     "exception": false,
     "start_time": "2022-01-21T12:19:08.846461",
     "status": "completed"
    },
    "tags": []
   },
   "outputs": [
    {
     "name": "stdout",
     "output_type": "stream",
     "text": [
      "There are 59 families with children.\n"
     ]
    }
   ],
   "source": [
    "whole_df['Child'] = whole_df.Age.map(lambda x: 1 if x <= 13 else 0)\n",
    "FamilyWithChild = whole_df[(whole_df.IsFamily==1)&(whole_df.Child==1)]['SurTix'].unique()\n",
    "print('There are {} families with children.'.format(len(FamilyWithChild)))"
   ]
  },
  {
   "cell_type": "code",
   "execution_count": 49,
   "id": "05ff07b8",
   "metadata": {
    "execution": {
     "iopub.execute_input": "2022-01-21T12:19:08.966357Z",
     "iopub.status.busy": "2022-01-21T12:19:08.965635Z",
     "iopub.status.idle": "2022-01-21T12:19:09.063266Z",
     "shell.execute_reply": "2022-01-21T12:19:09.062613Z",
     "shell.execute_reply.started": "2022-01-21T12:16:37.411528Z"
    },
    "papermill": {
     "duration": 0.131603,
     "end_time": "2022-01-21T12:19:09.063474",
     "exception": false,
     "start_time": "2022-01-21T12:19:08.931871",
     "status": "completed"
    },
    "tags": []
   },
   "outputs": [],
   "source": [
    "whole_df['FamilyId'] = 0\n",
    "x = 1\n",
    "for tix in FamilyWithChild:\n",
    "    whole_df.loc[whole_df.SurTix==tix, ['FamilyId']] = x\n",
    "    x += 1"
   ]
  },
  {
   "cell_type": "code",
   "execution_count": 50,
   "id": "13430b53",
   "metadata": {
    "execution": {
     "iopub.execute_input": "2022-01-21T12:19:09.142652Z",
     "iopub.status.busy": "2022-01-21T12:19:09.141843Z",
     "iopub.status.idle": "2022-01-21T12:19:10.373556Z",
     "shell.execute_reply": "2022-01-21T12:19:10.372857Z",
     "shell.execute_reply.started": "2022-01-21T12:16:37.512692Z"
    },
    "papermill": {
     "duration": 1.278678,
     "end_time": "2022-01-21T12:19:10.373704",
     "exception": false,
     "start_time": "2022-01-21T12:19:09.095026",
     "status": "completed"
    },
    "tags": []
   },
   "outputs": [
    {
     "data": {
      "text/plain": "<Figure size 936x360 with 1 Axes>",
      "image/png": "[encoded data removed]"
     },
     "metadata": {
      "needs_background": "light"
     },
     "output_type": "display_data"
    }
   ],
   "source": [
    "whole_df['SurvivedDemo'] = whole_df['Survived'].fillna(9)\n",
    "pd.crosstab(whole_df.FamilyId, whole_df.SurvivedDemo).drop([0]).plot(kind='bar', stacked=True, color=['black','g','grey'], figsize=(13,5))\n",
    "plt.show()"
   ]
  },
  {
   "cell_type": "code",
   "execution_count": 51,
   "id": "9a9b12e4",
   "metadata": {
    "execution": {
     "iopub.execute_input": "2022-01-21T12:19:10.447087Z",
     "iopub.status.busy": "2022-01-21T12:19:10.446261Z",
     "iopub.status.idle": "2022-01-21T12:19:10.794809Z",
     "shell.execute_reply": "2022-01-21T12:19:10.794106Z",
     "shell.execute_reply.started": "2022-01-21T12:16:38.737718Z"
    },
    "papermill": {
     "duration": 0.389424,
     "end_time": "2022-01-21T12:19:10.794956",
     "exception": false,
     "start_time": "2022-01-21T12:19:10.405532",
     "status": "completed"
    },
    "tags": []
   },
   "outputs": [
    {
     "data": {
      "text/plain": "<Figure size 432x288 with 1 Axes>",
      "image/png": "[encoded data removed]"
     },
     "metadata": {
      "needs_background": "light"
     },
     "output_type": "display_data"
    }
   ],
   "source": [
    "whole_df['ConnectedSurvival'] = 1 \n",
    "Survived_by_FamilyId = whole_df.groupby('FamilyId').Survived.sum()\n",
    "for i in range(1, len(FamilyWithChild)+1):\n",
    "    if Survived_by_FamilyId[i] >= 1:\n",
    "        whole_df.loc[whole_df.FamilyId==i, ['ConnectedSurvival']] = 2\n",
    "    elif Survived_by_FamilyId[i] == 0:\n",
    "        whole_df.loc[whole_df.FamilyId==i, ['ConnectedSurvival']] = 0\n",
    "train_df = whole_df[:len(train_df)]\n",
    "test_df = whole_df[len(train_df):]\n",
    "sns.barplot(x='ConnectedSurvival', y='Survived', data=train_df)\n",
    "plt.show()"
   ]
  },
  {
   "cell_type": "code",
   "execution_count": 52,
   "id": "42d8e25b",
   "metadata": {
    "execution": {
     "iopub.execute_input": "2022-01-21T12:19:10.870115Z",
     "iopub.status.busy": "2022-01-21T12:19:10.869443Z",
     "iopub.status.idle": "2022-01-21T12:19:10.872494Z",
     "shell.execute_reply": "2022-01-21T12:19:10.873019Z",
     "shell.execute_reply.started": "2022-01-21T12:16:39.089290Z"
    },
    "papermill": {
     "duration": 0.045576,
     "end_time": "2022-01-21T12:19:10.873200",
     "exception": false,
     "start_time": "2022-01-21T12:19:10.827624",
     "status": "completed"
    },
    "tags": []
   },
   "outputs": [],
   "source": [
    "X_train = train_df.drop(['Name', 'Parch', 'PassengerId', 'SibSp', \n",
    "                           'Ticket', 'Title', 'AgeBin_5', 'FareBin_5',  \n",
    "                           'Surname', 'TixPref', 'SurTix', 'IsFamily', 'Child', \n",
    "                           'FamilyId', 'Survived', 'SurvivedDemo', 'Age', 'Fare'], axis=1)\n",
    "\n",
    "Y_train = train_df['Survived']\n"
   ]
  },
  {
   "cell_type": "code",
   "execution_count": 53,
   "id": "415b66b5",
   "metadata": {
    "execution": {
     "iopub.execute_input": "2022-01-21T12:19:10.947899Z",
     "iopub.status.busy": "2022-01-21T12:19:10.947067Z",
     "iopub.status.idle": "2022-01-21T12:19:11.202164Z",
     "shell.execute_reply": "2022-01-21T12:19:11.200875Z",
     "shell.execute_reply.started": "2022-01-21T12:16:39.101131Z"
    },
    "papermill": {
     "duration": 0.293934,
     "end_time": "2022-01-21T12:19:11.202460",
     "exception": false,
     "start_time": "2022-01-21T12:19:10.908526",
     "status": "completed"
    },
    "tags": []
   },
   "outputs": [
    {
     "name": "stdout",
     "output_type": "stream",
     "text": [
      "Training Accuracy: 0.85073\n"
     ]
    }
   ],
   "source": [
    "final = ['Title_Code', 'ConnectedSurvival', 'FareBin_Code_5', 'Pclass',  'FamilySize']\n",
    "model = RandomForestClassifier(n_estimators=100, bootstrap=True, criterion='entropy',\n",
    "                               min_samples_leaf=5, min_samples_split=4, random_state=42)\n",
    "\n",
    "model.fit(X_train[final],Y_train)\n",
    "\n",
    "# this function compares two numeric data columns and returns the percentage difference\n",
    "def compare(col1, col2):\n",
    "    new = abs(col1-col2)\n",
    "    return (1- (new.sum() / len(new)))\n",
    "\n",
    "prediction_train = model.predict(X_train[final])\n",
    "output_train = pd.DataFrame({'PassengerId': train_df.PassengerId, 'Survived': prediction_train.astype(int)})\n",
    "print('Training Accuracy: {:.5f}'.format(compare(output_train['Survived'], train_df['Survived'])))"
   ]
  },
  {
   "cell_type": "code",
   "execution_count": 54,
   "id": "bea1cf0c",
   "metadata": {
    "execution": {
     "iopub.execute_input": "2022-01-21T12:19:11.281997Z",
     "iopub.status.busy": "2022-01-21T12:19:11.281188Z",
     "iopub.status.idle": "2022-01-21T12:19:11.304571Z",
     "shell.execute_reply": "2022-01-21T12:19:11.303886Z",
     "shell.execute_reply.started": "2022-01-21T12:18:22.925366Z"
    },
    "papermill": {
     "duration": 0.067629,
     "end_time": "2022-01-21T12:19:11.304734",
     "exception": false,
     "start_time": "2022-01-21T12:19:11.237105",
     "status": "completed"
    },
    "tags": []
   },
   "outputs": [
    {
     "name": "stdout",
     "output_type": "stream",
     "text": [
      "Your submission was successfully saved!\n"
     ]
    }
   ],
   "source": [
    "X_test = test_df[final]\n",
    "prediction = model.predict(X_test).astype(int)\n",
    "# output = pd.DataFrame({'PassengerId': test_df.PassengerId, 'Survived': prediction})\n",
    "# output.to_csv('submission.csv', index=False)\n",
    "# print(\"Your submission was successfully saved!\")"
   ]
  },
  {
   "cell_type": "code",
   "execution_count": 57,
   "outputs": [
    {
     "data": {
      "text/plain": "0    288\n1    130\ndtype: int64"
     },
     "execution_count": 57,
     "metadata": {},
     "output_type": "execute_result"
    }
   ],
   "source": [
    "sub = pd.read_csv('gender_submission.csv')\n",
    "sub['Survived'] = prediction\n",
    "sub.to_csv('submission.csv', index = False)\n",
    "pd.value_counts(prediction)"
   ],
   "metadata": {
    "collapsed": false,
    "pycharm": {
     "name": "#%%\n"
    }
   }
  },
  {
   "cell_type": "markdown",
   "id": "ec35d20f",
   "metadata": {
    "papermill": {
     "duration": 0.031851,
     "end_time": "2022-01-21T12:19:11.370784",
     "exception": false,
     "start_time": "2022-01-21T12:19:11.338933",
     "status": "completed"
    },
    "tags": []
   },
   "source": []
  }
 ],
 "metadata": {
  "kernelspec": {
   "display_name": "Python 3",
   "language": "python",
   "name": "python3"
  },
  "language_info": {
   "codemirror_mode": {
    "name": "ipython",
    "version": 3
   },
   "file_extension": ".py",
   "mimetype": "text/x-python",
   "name": "python",
   "nbconvert_exporter": "python",
   "pygments_lexer": "ipython3",
   "version": "3.7.12"
  },
  "papermill": {
   "default_parameters": {},
   "duration": 19.199108,
   "end_time": "2022-01-21T12:19:12.214328",
   "environment_variables": {},
   "exception": null,
   "input_path": "__notebook__.ipynb",
   "output_path": "__notebook__.ipynb",
   "parameters": {},
   "start_time": "2022-01-21T12:18:53.015220",
   "version": "2.3.3"
  }
 },
 "nbformat": 4,
 "nbformat_minor": 5
}